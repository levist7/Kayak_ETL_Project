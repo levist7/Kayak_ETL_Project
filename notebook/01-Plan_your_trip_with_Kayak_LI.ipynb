{
  "cells": [
    {
      "cell_type": "markdown",
      "metadata": {
        "id": "_94PoaaNx-rv"
      },
      "source": [
        "# Plan your trip with Kayak 📇\n",
        "\n",
        "![Kayak](https://seekvectorlogo.com/wp-content/uploads/2018/01/kayak-vector-logo.png)\n",
        "\n",
        "<a href=\"https://www.kayak.com\" target=\"_blank\">Kayak</a> is a travel search engine that helps user plan their next trip at the best price.\n",
        "\n",
        "The company was founded in 2004 by Steve Hafner & Paul M. English. After a few rounds of fundraising, Kayak was acquired by <a href=\"https://www.bookingholdings.com/\" target=\"_blank\">Booking Holdings</a> which now holds: \n",
        "\n",
        "* <a href=\"https://booking.com/\" target=\"_blank\">Booking.com</a>\n",
        "* <a href=\"https://kayak.com/\" target=\"_blank\">Kayak</a>\n",
        "* <a href=\"https://www.priceline.com/\" target=\"_blank\">Priceline</a>\n",
        "* <a href=\"https://www.agoda.com/\" target=\"_blank\">Agoda</a>\n",
        "* <a href=\"https://Rentalcars.com/\" target=\"_blank\">RentalCars</a>\n",
        "* <a href=\"https://www.opentable.com/\" target=\"_blank\">OpenTable</a>\n",
        "\n",
        "With over \\$300 million revenue a year, Kayak operates in almost all countries and all languages to help their users book travels accros the globe. \n",
        "\n",
        "## Project 🚧\n",
        "\n",
        "The marketing team needs help on a new project. After doing some user research, the team discovered that **70% of their users who are planning a trip would like to have more information about the destination they are going to**. \n",
        "\n",
        "In addition, user research shows that **people tend to be defiant about the information they are reading if they don't know the brand** which produced the content. \n",
        "\n",
        "Therefore, Kayak Marketing Team would like to create an application that will recommend where people should plan their next holidays. The application should be based on real data about:\n",
        "\n",
        "* Weather \n",
        "* Hotels in the area \n",
        "\n",
        "The application should then be able to recommend the best destinations and hotels based on the above variables at any given time. \n",
        "\n",
        "## Goals 🎯\n",
        "\n",
        "As the project has just started, your team doesn't have any data that can be used to create this application. Therefore, your job will be to: \n",
        "\n",
        "* Scrape data from destinations \n",
        "* Get weather data from each destination \n",
        "* Get hotels' info about each destination\n",
        "* Store all the information above in a data lake\n",
        "* Extract, transform and load cleaned data from your datalake to a data warehouse\n",
        "\n",
        "**Scope of this project**🖼️\n",
        "\n",
        "Marketing team wants to focus first on the best cities to travel to in France. According <a href=\"https://one-week-in.com/35-cities-to-visit-in-france/\" target=\"_blank\">One Week In.com</a> here are the top-35 cities to visit in France: \n",
        "\n",
        "**Helpers**\n",
        "\n",
        "\n",
        "Get weather data with an API:\n",
        "*   https://nominatim.org/ or\n",
        "*   https://openweathermap.org/appid\n",
        "\n",
        "Save all the results in a .csv file with name of the cities, unique id.\n",
        "\n",
        "Plot destinations on a map using plotly\n",
        "\n",
        "Scrape Booking.com to obtain the informations:\n",
        "\n",
        "*   hotel name\n",
        "*   Url to booking.com page\n",
        "*   Coordinates of latitude and longitude\n",
        "*   Score given by the website users\n",
        "*   Text description of the hotel\n",
        "\n",
        "Create data lake using S3\n",
        "\n",
        "ETL - create a SQL database using AWS RDS to extract data from S3 and store in new DB\n",
        "\n",
        "**Deliverables**\n",
        "\n",
        "1- A .csv file in an S3 bucket containing enriched information about weather and hotels for each French city\n",
        "\n",
        "2- A SQL Database to get the cleaned data from S3\n",
        "\n",
        "3- Two maps with TOP 5 destinations and TOP 20 hotels in the area"
      ]
    },
    {
      "cell_type": "markdown",
      "metadata": {},
      "source": [
        "# Setup 💾 "
      ]
    },
    {
      "cell_type": "code",
      "execution_count": 2,
      "metadata": {
        "id": "nXnNPWZDyoPv"
      },
      "outputs": [],
      "source": [
        "#Importing libraries\n",
        "import pandas as pd\n",
        "import numpy as np\n",
        "import json\n",
        "\n",
        "import matplotlib.pyplot as plt\n",
        "import plotly.express as px \n",
        "import plotly.graph_objects as go\n",
        "\n",
        "import requests\n",
        "import boto3\n"
      ]
    },
    {
      "cell_type": "markdown",
      "metadata": {},
      "source": [
        "# Scrapping 🔎"
      ]
    },
    {
      "cell_type": "markdown",
      "metadata": {},
      "source": [
        "## 1 - Scrapping city names and coordinates - openstreetmap"
      ]
    },
    {
      "cell_type": "code",
      "execution_count": 63,
      "metadata": {},
      "outputs": [],
      "source": [
        "%%capture\n",
        "!python ../src/citylist.py"
      ]
    },
    {
      "cell_type": "code",
      "execution_count": 64,
      "metadata": {},
      "outputs": [
        {
          "data": {
            "text/plain": [
              "(35, 1)"
            ]
          },
          "execution_count": 64,
          "metadata": {},
          "output_type": "execute_result"
        }
      ],
      "source": [
        "#let's load the city list from the json file\n",
        "city_list=pd.read_csv('..\\\\data\\\\citylist.csv')\n",
        "city_list.shape"
      ]
    },
    {
      "cell_type": "code",
      "execution_count": 65,
      "metadata": {},
      "outputs": [
        {
          "data": {
            "text/html": [
              "<div>\n",
              "<style scoped>\n",
              "    .dataframe tbody tr th:only-of-type {\n",
              "        vertical-align: middle;\n",
              "    }\n",
              "\n",
              "    .dataframe tbody tr th {\n",
              "        vertical-align: top;\n",
              "    }\n",
              "\n",
              "    .dataframe thead th {\n",
              "        text-align: right;\n",
              "    }\n",
              "</style>\n",
              "<table border=\"1\" class=\"dataframe\">\n",
              "  <thead>\n",
              "    <tr style=\"text-align: right;\">\n",
              "      <th></th>\n",
              "      <th>city</th>\n",
              "    </tr>\n",
              "  </thead>\n",
              "  <tbody>\n",
              "    <tr>\n",
              "      <th>0</th>\n",
              "      <td>Mont Saint Michel</td>\n",
              "    </tr>\n",
              "    <tr>\n",
              "      <th>1</th>\n",
              "      <td>St Malo</td>\n",
              "    </tr>\n",
              "    <tr>\n",
              "      <th>2</th>\n",
              "      <td>Bayeux</td>\n",
              "    </tr>\n",
              "    <tr>\n",
              "      <th>3</th>\n",
              "      <td>Le Havre</td>\n",
              "    </tr>\n",
              "    <tr>\n",
              "      <th>4</th>\n",
              "      <td>Rouen</td>\n",
              "    </tr>\n",
              "  </tbody>\n",
              "</table>\n",
              "</div>"
            ],
            "text/plain": [
              "                city\n",
              "0  Mont Saint Michel\n",
              "1            St Malo\n",
              "2             Bayeux\n",
              "3           Le Havre\n",
              "4              Rouen"
            ]
          },
          "execution_count": 65,
          "metadata": {},
          "output_type": "execute_result"
        }
      ],
      "source": [
        "city_list.head()"
      ]
    },
    {
      "cell_type": "code",
      "execution_count": 66,
      "metadata": {
        "colab": {
          "base_uri": "https://localhost:8080/"
        },
        "id": "I6RrTV0r-lEe",
        "outputId": "918dd989-cb2d-4859-9f69-95e03c1a0fd9"
      },
      "outputs": [],
      "source": [
        "# api to collect city informations and lats + longs\n",
        "api_openstreet =[]\n",
        "for city in city_list['city']:\n",
        "  url='https://nominatim.openstreetmap.org/search?format=jsonv2&q=' + city + '&country=France'\n",
        "  r1 = requests.get(url)\n",
        "  api_openstreet.append(r1.json())"
      ]
    },
    {
      "cell_type": "code",
      "execution_count": 67,
      "metadata": {
        "id": "zlDKqIh8BYD8"
      },
      "outputs": [
        {
          "data": {
            "text/html": [
              "<div>\n",
              "<style scoped>\n",
              "    .dataframe tbody tr th:only-of-type {\n",
              "        vertical-align: middle;\n",
              "    }\n",
              "\n",
              "    .dataframe tbody tr th {\n",
              "        vertical-align: top;\n",
              "    }\n",
              "\n",
              "    .dataframe thead th {\n",
              "        text-align: right;\n",
              "    }\n",
              "</style>\n",
              "<table border=\"1\" class=\"dataframe\">\n",
              "  <thead>\n",
              "    <tr style=\"text-align: right;\">\n",
              "      <th></th>\n",
              "      <th>city</th>\n",
              "      <th>lat</th>\n",
              "      <th>lon</th>\n",
              "    </tr>\n",
              "  </thead>\n",
              "  <tbody>\n",
              "    <tr>\n",
              "      <th>0</th>\n",
              "      <td>Mont Saint Michel</td>\n",
              "      <td>48.635954</td>\n",
              "      <td>-1.511460</td>\n",
              "    </tr>\n",
              "    <tr>\n",
              "      <th>1</th>\n",
              "      <td>St Malo</td>\n",
              "      <td>48.649518</td>\n",
              "      <td>-2.026041</td>\n",
              "    </tr>\n",
              "    <tr>\n",
              "      <th>2</th>\n",
              "      <td>Bayeux</td>\n",
              "      <td>49.276462</td>\n",
              "      <td>-0.702474</td>\n",
              "    </tr>\n",
              "    <tr>\n",
              "      <th>3</th>\n",
              "      <td>Le Havre</td>\n",
              "      <td>49.493898</td>\n",
              "      <td>0.107973</td>\n",
              "    </tr>\n",
              "    <tr>\n",
              "      <th>4</th>\n",
              "      <td>Rouen</td>\n",
              "      <td>49.440459</td>\n",
              "      <td>1.093966</td>\n",
              "    </tr>\n",
              "  </tbody>\n",
              "</table>\n",
              "</div>"
            ],
            "text/plain": [
              "                city        lat       lon\n",
              "0  Mont Saint Michel  48.635954 -1.511460\n",
              "1            St Malo  48.649518 -2.026041\n",
              "2             Bayeux  49.276462 -0.702474\n",
              "3           Le Havre  49.493898  0.107973\n",
              "4              Rouen  49.440459  1.093966"
            ]
          },
          "execution_count": 67,
          "metadata": {},
          "output_type": "execute_result"
        }
      ],
      "source": [
        "#gathering lat and long for each city in the dataset\n",
        "latlon_list = []\n",
        "for city,each in zip(city_list['city'],api_openstreet):\n",
        "    latlon_list.append([city, float(each[0] ['lat']), float(each[0] ['lon'])])\n",
        "\n",
        "#converting it to a pd dataframe\n",
        "df0 = pd.DataFrame(latlon_list, columns = ['city','lat','lon'])\n",
        "df0.head(5)\n"
      ]
    },
    {
      "cell_type": "code",
      "execution_count": 68,
      "metadata": {},
      "outputs": [],
      "source": [
        "#checkpoint\n",
        "df0.to_csv(\"..\\\\data\\\\checkpoint1.csv\", index=False)"
      ]
    },
    {
      "cell_type": "markdown",
      "metadata": {},
      "source": [
        "## 2 - Scrapping weather data - openweathermap\n",
        "\n",
        "Goal: Determine the cities where the weather will be the nicest within the next 7 days. For this, the following informations are collected:\n",
        "\n",
        "\n",
        "* daily.pop - daily probability of rain\n",
        "* daily.wind_speed - daily speed of wind\n",
        "* daily.temp.day - daily temperature\n",
        "\n",
        "Ranking of how nice weather will be based on a pointing system for these three critera:\n",
        "\n",
        "1. distribute 10 points to each city in a normalized way by using average values in pop, wind_speed, temp.day\n",
        "2. calculate the weighted average of points in three areas\n",
        "    0.30 * ranking_pop + 0.30 * ranking_wind + 0.40 * temp_day\n",
        "\n",
        " Daily temperature should have a higher weight to decide whether it will be nice or not 😎"
      ]
    },
    {
      "cell_type": "code",
      "execution_count": 69,
      "metadata": {},
      "outputs": [],
      "source": [
        "wk = open(\"..\\\\..\\\\.openweather\",\"r\").read()  #add your key here"
      ]
    },
    {
      "cell_type": "code",
      "execution_count": 70,
      "metadata": {},
      "outputs": [],
      "source": [
        "#loading openweather api\n",
        "api_openweather = []\n",
        "for lat, lon in zip(df0['lat'], df0['lon']):\n",
        "    base_url = 'https://api.openweathermap.org/data/2.5/onecall?'\n",
        "    url = base_url + 'lat='+ str(lat) +'&lon='+ str(lon)+'&exclude=minutely,hourly'+\\\n",
        "                  '&units=metric' +'&appid='+wk\n",
        "    api_openweather.append(requests.get(url).json())\n"
      ]
    },
    {
      "cell_type": "markdown",
      "metadata": {},
      "source": [
        "Here are some weather information scrapped that will be considered to rank the cities on how nice will be the weather\n",
        "* daily.pop : probability of precipitation. The values of the parameter vary between 0 and 1, where 0 is equal to 0%, 1 is equal to 100%\n",
        "\n",
        "* daily.wind_speed Wind speed. Units – default: metre/sec, metric: metre/sec, imperial: miles/hour\n",
        "\n",
        "* daily.temp Units – default: kelvin, metric: Celsius, imperial: Fahrenheit. How to change units used\n",
        "\n",
        "units={units} \n",
        "\n",
        "    For temperature in Fahrenheit and wind speed in miles/hour, use units=imperial\n",
        "    For temperature in Celsius and wind speed in meter/sec, use units=metric\n",
        "    Temperature in Kelvin and wind speed in meter/sec is used by default\n"
      ]
    },
    {
      "cell_type": "code",
      "execution_count": 71,
      "metadata": {},
      "outputs": [
        {
          "data": {
            "text/plain": [
              "dict_keys(['dt', 'sunrise', 'sunset', 'moonrise', 'moonset', 'moon_phase', 'temp', 'feels_like', 'pressure', 'humidity', 'dew_point', 'wind_speed', 'wind_deg', 'wind_gust', 'weather', 'clouds', 'pop', 'uvi'])"
            ]
          },
          "execution_count": 71,
          "metadata": {},
          "output_type": "execute_result"
        }
      ],
      "source": [
        "#here are the keys of daily keys\n",
        "api_openweather[0]['daily'][0].keys()"
      ]
    },
    {
      "cell_type": "code",
      "execution_count": 72,
      "metadata": {},
      "outputs": [],
      "source": [
        "#naming column names\n",
        "#following weather data is considered to rank how nice the weather will be\n",
        "cols_wind =['d0_wind_speed', 'd1_wind_speed','d2_wind_speed',\\\n",
        "            'd3_wind_speed','d4_wind_speed','d5_wind_speed',\\\n",
        "            'd6_wind_speed','d7_wind_speed', 'avg_wind_speed']\n",
        "\n",
        "cols_pop = ['d0_pop', 'd1_pop','d2_pop',\\\n",
        "            'd3_pop','d4_pop','d5_pop',\\\n",
        "            'd6_pop','d7_pop' ,'avg_pop']\n",
        "            \n",
        "cols_temp =['d0_temp', 'd1_temp','d2_temp',\\\n",
        "            'd3_temp','d4_temp','d5_temp',\\\n",
        "            'd6_temp','d7_temp' ,'avg_temp_day']"
      ]
    },
    {
      "cell_type": "code",
      "execution_count": 73,
      "metadata": {},
      "outputs": [],
      "source": [
        "#api_openweather contains information for cities.\n",
        "#it is not in a good format structure to use with pandas df\n",
        "#it is neccessary to change it to a dataframe format suitable for analysis\n",
        "\n",
        "#creating lists to collect data for all cities\n",
        "wind_all = []\n",
        "pop_all = []\n",
        "temp_all = []\n",
        "\n",
        "for cc in range (len(city_list)):\n",
        "    #creating lists to collect neccessary infos for a single city\n",
        "    wind_ = [api_openweather[cc]['daily'][ii]['wind_speed'] for ii in range(8)]\n",
        "    pop_ = [api_openweather[cc]['daily'][ii]['pop'] for ii in range(8)]\n",
        "    temp_ = [api_openweather[cc]['daily'][ii]['temp']['day'] for ii in range(8)]\n",
        "\n",
        "    #appending mean of wind, pop, and temp\n",
        "    wind_.append(round(np.mean(wind_),2))\n",
        "    pop_.append(round(np.mean(pop_),3))\n",
        "    temp_.append(round(np.mean(temp_),2))\n",
        "\n",
        "    #appending them to global list\n",
        "    wind_all.append(wind_)\n",
        "    pop_all.append(pop_)\n",
        "    temp_all.append(temp_)\n"
      ]
    },
    {
      "cell_type": "code",
      "execution_count": 74,
      "metadata": {},
      "outputs": [
        {
          "data": {
            "text/html": [
              "<div>\n",
              "<style scoped>\n",
              "    .dataframe tbody tr th:only-of-type {\n",
              "        vertical-align: middle;\n",
              "    }\n",
              "\n",
              "    .dataframe tbody tr th {\n",
              "        vertical-align: top;\n",
              "    }\n",
              "\n",
              "    .dataframe thead th {\n",
              "        text-align: right;\n",
              "    }\n",
              "</style>\n",
              "<table border=\"1\" class=\"dataframe\">\n",
              "  <thead>\n",
              "    <tr style=\"text-align: right;\">\n",
              "      <th></th>\n",
              "      <th>city</th>\n",
              "      <th>lat</th>\n",
              "      <th>lon</th>\n",
              "      <th>d0_wind_speed</th>\n",
              "      <th>d1_wind_speed</th>\n",
              "      <th>d2_wind_speed</th>\n",
              "      <th>d3_wind_speed</th>\n",
              "      <th>d4_wind_speed</th>\n",
              "      <th>d5_wind_speed</th>\n",
              "      <th>d6_wind_speed</th>\n",
              "      <th>...</th>\n",
              "      <th>avg_pop</th>\n",
              "      <th>d0_temp</th>\n",
              "      <th>d1_temp</th>\n",
              "      <th>d2_temp</th>\n",
              "      <th>d3_temp</th>\n",
              "      <th>d4_temp</th>\n",
              "      <th>d5_temp</th>\n",
              "      <th>d6_temp</th>\n",
              "      <th>d7_temp</th>\n",
              "      <th>avg_temp_day</th>\n",
              "    </tr>\n",
              "  </thead>\n",
              "  <tbody>\n",
              "    <tr>\n",
              "      <th>0</th>\n",
              "      <td>Mont Saint Michel</td>\n",
              "      <td>48.635954</td>\n",
              "      <td>-1.511460</td>\n",
              "      <td>7.21</td>\n",
              "      <td>14.15</td>\n",
              "      <td>13.22</td>\n",
              "      <td>7.62</td>\n",
              "      <td>6.59</td>\n",
              "      <td>6.02</td>\n",
              "      <td>11.53</td>\n",
              "      <td>...</td>\n",
              "      <td>0.426</td>\n",
              "      <td>18.17</td>\n",
              "      <td>18.42</td>\n",
              "      <td>15.86</td>\n",
              "      <td>18.10</td>\n",
              "      <td>20.32</td>\n",
              "      <td>20.69</td>\n",
              "      <td>16.73</td>\n",
              "      <td>17.00</td>\n",
              "      <td>18.16</td>\n",
              "    </tr>\n",
              "    <tr>\n",
              "      <th>1</th>\n",
              "      <td>St Malo</td>\n",
              "      <td>48.649518</td>\n",
              "      <td>-2.026041</td>\n",
              "      <td>7.78</td>\n",
              "      <td>14.96</td>\n",
              "      <td>15.10</td>\n",
              "      <td>8.02</td>\n",
              "      <td>8.56</td>\n",
              "      <td>7.03</td>\n",
              "      <td>12.82</td>\n",
              "      <td>...</td>\n",
              "      <td>0.350</td>\n",
              "      <td>18.15</td>\n",
              "      <td>17.97</td>\n",
              "      <td>16.77</td>\n",
              "      <td>17.69</td>\n",
              "      <td>19.94</td>\n",
              "      <td>19.63</td>\n",
              "      <td>16.52</td>\n",
              "      <td>17.03</td>\n",
              "      <td>17.96</td>\n",
              "    </tr>\n",
              "    <tr>\n",
              "      <th>2</th>\n",
              "      <td>Bayeux</td>\n",
              "      <td>49.276462</td>\n",
              "      <td>-0.702474</td>\n",
              "      <td>7.95</td>\n",
              "      <td>12.79</td>\n",
              "      <td>13.99</td>\n",
              "      <td>6.46</td>\n",
              "      <td>7.06</td>\n",
              "      <td>6.45</td>\n",
              "      <td>12.32</td>\n",
              "      <td>...</td>\n",
              "      <td>0.386</td>\n",
              "      <td>17.61</td>\n",
              "      <td>18.63</td>\n",
              "      <td>15.27</td>\n",
              "      <td>17.63</td>\n",
              "      <td>20.67</td>\n",
              "      <td>21.13</td>\n",
              "      <td>20.04</td>\n",
              "      <td>16.79</td>\n",
              "      <td>18.47</td>\n",
              "    </tr>\n",
              "  </tbody>\n",
              "</table>\n",
              "<p>3 rows × 30 columns</p>\n",
              "</div>"
            ],
            "text/plain": [
              "                city        lat       lon  d0_wind_speed  d1_wind_speed  \\\n",
              "0  Mont Saint Michel  48.635954 -1.511460           7.21          14.15   \n",
              "1            St Malo  48.649518 -2.026041           7.78          14.96   \n",
              "2             Bayeux  49.276462 -0.702474           7.95          12.79   \n",
              "\n",
              "   d2_wind_speed  d3_wind_speed  d4_wind_speed  d5_wind_speed  d6_wind_speed  \\\n",
              "0          13.22           7.62           6.59           6.02          11.53   \n",
              "1          15.10           8.02           8.56           7.03          12.82   \n",
              "2          13.99           6.46           7.06           6.45          12.32   \n",
              "\n",
              "   ...  avg_pop  d0_temp  d1_temp  d2_temp  d3_temp  d4_temp  d5_temp  \\\n",
              "0  ...    0.426    18.17    18.42    15.86    18.10    20.32    20.69   \n",
              "1  ...    0.350    18.15    17.97    16.77    17.69    19.94    19.63   \n",
              "2  ...    0.386    17.61    18.63    15.27    17.63    20.67    21.13   \n",
              "\n",
              "   d6_temp  d7_temp  avg_temp_day  \n",
              "0    16.73    17.00         18.16  \n",
              "1    16.52    17.03         17.96  \n",
              "2    20.04    16.79         18.47  \n",
              "\n",
              "[3 rows x 30 columns]"
            ]
          },
          "execution_count": 74,
          "metadata": {},
          "output_type": "execute_result"
        }
      ],
      "source": [
        "#adding lists to dataframe\n",
        "df0 [cols_wind] = wind_all\n",
        "df0 [cols_pop] = pop_all\n",
        "df0 [cols_temp] = temp_all\n",
        "\n",
        "#sanity check\n",
        "df0.head(3)"
      ]
    },
    {
      "cell_type": "code",
      "execution_count": 75,
      "metadata": {},
      "outputs": [
        {
          "data": {
            "text/html": [
              "<div>\n",
              "<style scoped>\n",
              "    .dataframe tbody tr th:only-of-type {\n",
              "        vertical-align: middle;\n",
              "    }\n",
              "\n",
              "    .dataframe tbody tr th {\n",
              "        vertical-align: top;\n",
              "    }\n",
              "\n",
              "    .dataframe thead th {\n",
              "        text-align: right;\n",
              "    }\n",
              "</style>\n",
              "<table border=\"1\" class=\"dataframe\">\n",
              "  <thead>\n",
              "    <tr style=\"text-align: right;\">\n",
              "      <th></th>\n",
              "      <th>city</th>\n",
              "      <th>score</th>\n",
              "    </tr>\n",
              "  </thead>\n",
              "  <tbody>\n",
              "    <tr>\n",
              "      <th>0</th>\n",
              "      <td>Mont Saint Michel</td>\n",
              "      <td>1.34</td>\n",
              "    </tr>\n",
              "    <tr>\n",
              "      <th>1</th>\n",
              "      <td>St Malo</td>\n",
              "      <td>1.25</td>\n",
              "    </tr>\n",
              "    <tr>\n",
              "      <th>2</th>\n",
              "      <td>Bayeux</td>\n",
              "      <td>1.68</td>\n",
              "    </tr>\n",
              "    <tr>\n",
              "      <th>3</th>\n",
              "      <td>Le Havre</td>\n",
              "      <td>1.06</td>\n",
              "    </tr>\n",
              "    <tr>\n",
              "      <th>4</th>\n",
              "      <td>Rouen</td>\n",
              "      <td>3.61</td>\n",
              "    </tr>\n",
              "  </tbody>\n",
              "</table>\n",
              "</div>"
            ],
            "text/plain": [
              "                city  score\n",
              "0  Mont Saint Michel   1.34\n",
              "1            St Malo   1.25\n",
              "2             Bayeux   1.68\n",
              "3           Le Havre   1.06\n",
              "4              Rouen   3.61"
            ]
          },
          "execution_count": 75,
          "metadata": {},
          "output_type": "execute_result"
        }
      ],
      "source": [
        "rank_cols = ['avg_wind_speed' , 'avg_pop', 'avg_temp_day']\n",
        "\n",
        "#first, let's normalize the column values from 0 to 10\n",
        "df_rank = df0[rank_cols]\n",
        "df_rank = (df_rank-df_rank.min())/(df_rank.max()-df_rank.min()) * 10.\n",
        "#for wind and pop columns, the lesser the value is the better the ranking should be. \n",
        "#fixing the values below.\n",
        "df_rank[['avg_wind_speed' , 'avg_pop']] =  10. - df_rank[['avg_wind_speed' , 'avg_pop']]\n",
        "\n",
        "#second, rank cities based on weighted sum below\n",
        "df_rank['score'] = 0.30*df_rank['avg_wind_speed'] + 0.30*df_rank['avg_pop'] + 0.40*df_rank['avg_temp_day']\n",
        "\n",
        "#third, add the rounded scores to global df\n",
        "df0['score'] = round(df_rank['score'],2)\n",
        "\n",
        "#let's overview results \n",
        "df0[['city','score']].head(5)\n"
      ]
    },
    {
      "cell_type": "markdown",
      "metadata": {},
      "source": [
        "*Sanity check* - Weather in St Malo and Mont St Micheal do not seem very ideal for tourism next week. Scores given above seem to work."
      ]
    },
    {
      "cell_type": "code",
      "execution_count": 76,
      "metadata": {},
      "outputs": [
        {
          "name": "stdout",
          "output_type": "stream",
          "text": [
            "5 cities with the nicest weather next week:\n",
            "\n"
          ]
        },
        {
          "data": {
            "text/html": [
              "<div>\n",
              "<style scoped>\n",
              "    .dataframe tbody tr th:only-of-type {\n",
              "        vertical-align: middle;\n",
              "    }\n",
              "\n",
              "    .dataframe tbody tr th {\n",
              "        vertical-align: top;\n",
              "    }\n",
              "\n",
              "    .dataframe thead th {\n",
              "        text-align: right;\n",
              "    }\n",
              "</style>\n",
              "<table border=\"1\" class=\"dataframe\">\n",
              "  <thead>\n",
              "    <tr style=\"text-align: right;\">\n",
              "      <th></th>\n",
              "      <th>city</th>\n",
              "      <th>lat</th>\n",
              "      <th>lon</th>\n",
              "      <th>d0_wind_speed</th>\n",
              "      <th>d1_wind_speed</th>\n",
              "      <th>d2_wind_speed</th>\n",
              "      <th>d3_wind_speed</th>\n",
              "      <th>d4_wind_speed</th>\n",
              "      <th>d5_wind_speed</th>\n",
              "      <th>d6_wind_speed</th>\n",
              "      <th>...</th>\n",
              "      <th>d0_temp</th>\n",
              "      <th>d1_temp</th>\n",
              "      <th>d2_temp</th>\n",
              "      <th>d3_temp</th>\n",
              "      <th>d4_temp</th>\n",
              "      <th>d5_temp</th>\n",
              "      <th>d6_temp</th>\n",
              "      <th>d7_temp</th>\n",
              "      <th>avg_temp_day</th>\n",
              "      <th>score</th>\n",
              "    </tr>\n",
              "  </thead>\n",
              "  <tbody>\n",
              "    <tr>\n",
              "      <th>31</th>\n",
              "      <td>Montauban</td>\n",
              "      <td>44.017584</td>\n",
              "      <td>1.354999</td>\n",
              "      <td>5.71</td>\n",
              "      <td>8.15</td>\n",
              "      <td>3.32</td>\n",
              "      <td>5.93</td>\n",
              "      <td>5.36</td>\n",
              "      <td>6.11</td>\n",
              "      <td>7.66</td>\n",
              "      <td>...</td>\n",
              "      <td>24.53</td>\n",
              "      <td>26.28</td>\n",
              "      <td>22.58</td>\n",
              "      <td>24.54</td>\n",
              "      <td>25.83</td>\n",
              "      <td>27.04</td>\n",
              "      <td>26.61</td>\n",
              "      <td>24.49</td>\n",
              "      <td>25.24</td>\n",
              "      <td>8.13</td>\n",
              "    </tr>\n",
              "    <tr>\n",
              "      <th>27</th>\n",
              "      <td>Collioure</td>\n",
              "      <td>42.525050</td>\n",
              "      <td>3.083155</td>\n",
              "      <td>4.82</td>\n",
              "      <td>5.29</td>\n",
              "      <td>5.23</td>\n",
              "      <td>2.07</td>\n",
              "      <td>3.81</td>\n",
              "      <td>4.55</td>\n",
              "      <td>6.64</td>\n",
              "      <td>...</td>\n",
              "      <td>22.91</td>\n",
              "      <td>24.36</td>\n",
              "      <td>26.54</td>\n",
              "      <td>22.93</td>\n",
              "      <td>21.13</td>\n",
              "      <td>23.88</td>\n",
              "      <td>24.36</td>\n",
              "      <td>21.61</td>\n",
              "      <td>23.46</td>\n",
              "      <td>8.09</td>\n",
              "    </tr>\n",
              "    <tr>\n",
              "      <th>33</th>\n",
              "      <td>Bayonne</td>\n",
              "      <td>43.494514</td>\n",
              "      <td>-1.473666</td>\n",
              "      <td>5.37</td>\n",
              "      <td>9.25</td>\n",
              "      <td>3.90</td>\n",
              "      <td>3.76</td>\n",
              "      <td>3.26</td>\n",
              "      <td>4.80</td>\n",
              "      <td>6.04</td>\n",
              "      <td>...</td>\n",
              "      <td>23.80</td>\n",
              "      <td>23.96</td>\n",
              "      <td>22.81</td>\n",
              "      <td>23.87</td>\n",
              "      <td>24.71</td>\n",
              "      <td>26.68</td>\n",
              "      <td>23.03</td>\n",
              "      <td>23.94</td>\n",
              "      <td>24.10</td>\n",
              "      <td>7.90</td>\n",
              "    </tr>\n",
              "    <tr>\n",
              "      <th>21</th>\n",
              "      <td>Aix en Provence</td>\n",
              "      <td>43.529842</td>\n",
              "      <td>5.447474</td>\n",
              "      <td>4.30</td>\n",
              "      <td>6.12</td>\n",
              "      <td>5.99</td>\n",
              "      <td>2.64</td>\n",
              "      <td>3.20</td>\n",
              "      <td>2.62</td>\n",
              "      <td>3.35</td>\n",
              "      <td>...</td>\n",
              "      <td>21.99</td>\n",
              "      <td>24.64</td>\n",
              "      <td>24.50</td>\n",
              "      <td>23.24</td>\n",
              "      <td>25.13</td>\n",
              "      <td>25.86</td>\n",
              "      <td>25.73</td>\n",
              "      <td>23.17</td>\n",
              "      <td>24.28</td>\n",
              "      <td>7.77</td>\n",
              "    </tr>\n",
              "    <tr>\n",
              "      <th>30</th>\n",
              "      <td>Toulouse</td>\n",
              "      <td>43.604462</td>\n",
              "      <td>1.444247</td>\n",
              "      <td>6.00</td>\n",
              "      <td>8.51</td>\n",
              "      <td>3.34</td>\n",
              "      <td>6.46</td>\n",
              "      <td>7.37</td>\n",
              "      <td>8.28</td>\n",
              "      <td>9.68</td>\n",
              "      <td>...</td>\n",
              "      <td>23.99</td>\n",
              "      <td>26.61</td>\n",
              "      <td>22.42</td>\n",
              "      <td>23.32</td>\n",
              "      <td>25.24</td>\n",
              "      <td>25.65</td>\n",
              "      <td>25.93</td>\n",
              "      <td>23.91</td>\n",
              "      <td>24.63</td>\n",
              "      <td>7.56</td>\n",
              "    </tr>\n",
              "  </tbody>\n",
              "</table>\n",
              "<p>5 rows × 31 columns</p>\n",
              "</div>"
            ],
            "text/plain": [
              "               city        lat       lon  d0_wind_speed  d1_wind_speed  \\\n",
              "31        Montauban  44.017584  1.354999           5.71           8.15   \n",
              "27        Collioure  42.525050  3.083155           4.82           5.29   \n",
              "33          Bayonne  43.494514 -1.473666           5.37           9.25   \n",
              "21  Aix en Provence  43.529842  5.447474           4.30           6.12   \n",
              "30         Toulouse  43.604462  1.444247           6.00           8.51   \n",
              "\n",
              "    d2_wind_speed  d3_wind_speed  d4_wind_speed  d5_wind_speed  d6_wind_speed  \\\n",
              "31           3.32           5.93           5.36           6.11           7.66   \n",
              "27           5.23           2.07           3.81           4.55           6.64   \n",
              "33           3.90           3.76           3.26           4.80           6.04   \n",
              "21           5.99           2.64           3.20           2.62           3.35   \n",
              "30           3.34           6.46           7.37           8.28           9.68   \n",
              "\n",
              "    ...  d0_temp  d1_temp  d2_temp  d3_temp  d4_temp  d5_temp  d6_temp  \\\n",
              "31  ...    24.53    26.28    22.58    24.54    25.83    27.04    26.61   \n",
              "27  ...    22.91    24.36    26.54    22.93    21.13    23.88    24.36   \n",
              "33  ...    23.80    23.96    22.81    23.87    24.71    26.68    23.03   \n",
              "21  ...    21.99    24.64    24.50    23.24    25.13    25.86    25.73   \n",
              "30  ...    23.99    26.61    22.42    23.32    25.24    25.65    25.93   \n",
              "\n",
              "    d7_temp  avg_temp_day  score  \n",
              "31    24.49         25.24   8.13  \n",
              "27    21.61         23.46   8.09  \n",
              "33    23.94         24.10   7.90  \n",
              "21    23.17         24.28   7.77  \n",
              "30    23.91         24.63   7.56  \n",
              "\n",
              "[5 rows x 31 columns]"
            ]
          },
          "execution_count": 76,
          "metadata": {},
          "output_type": "execute_result"
        }
      ],
      "source": [
        "print('5 cities with the nicest weather next week:\\n')\n",
        "\n",
        "top5 = df0.sort_values(by='score',ascending=False).head(5)\n",
        "top5.to_csv('..\\\\data\\\\top5city.csv',index=False)\n",
        "top5"
      ]
    },
    {
      "cell_type": "code",
      "execution_count": 77,
      "metadata": {},
      "outputs": [],
      "source": [
        "#adding a unique identifier\n",
        "df0['city_id'] = [1000 + ii for ii in range(len(df0))]"
      ]
    },
    {
      "cell_type": "code",
      "execution_count": 78,
      "metadata": {},
      "outputs": [
        {
          "data": {
            "application/vnd.plotly.v1+json": {
              "config": {
                "plotlyServerURL": "https://plot.ly"
              },
              "data": [
                {
                  "customdata": [
                    [
                      1.34,
                      18.16,
                      0.426,
                      9.06
                    ],
                    [
                      1.25,
                      17.96,
                      0.35,
                      10.21
                    ],
                    [
                      1.68,
                      18.47,
                      0.386,
                      9.2
                    ],
                    [
                      1.06,
                      17.99,
                      0.392,
                      10.14
                    ],
                    [
                      3.61,
                      19.44,
                      0.279,
                      6.89
                    ],
                    [
                      5.67,
                      20.74,
                      0.138,
                      5.23
                    ],
                    [
                      3.75,
                      19.57,
                      0.265,
                      6.92
                    ],
                    [
                      3.55,
                      18.98,
                      0.262,
                      6.65
                    ],
                    [
                      2.91,
                      19.41,
                      0.529,
                      4.86
                    ],
                    [
                      2.75,
                      17.64,
                      0.521,
                      2.82
                    ],
                    [
                      4.08,
                      20.3,
                      0.495,
                      3.42
                    ],
                    [
                      4.09,
                      20.44,
                      0.512,
                      3.35
                    ],
                    [
                      3.96,
                      20.78,
                      0.544,
                      3.7
                    ],
                    [
                      3.96,
                      20.1,
                      0.399,
                      4.99
                    ],
                    [
                      4.85,
                      20.39,
                      0.472,
                      1.76
                    ],
                    [
                      6.42,
                      23.47,
                      0.439,
                      2.43
                    ],
                    [
                      5.23,
                      22.05,
                      0.405,
                      4.21
                    ],
                    [
                      6.24,
                      20.93,
                      0.214,
                      2.7
                    ],
                    [
                      6.99,
                      22.4,
                      0.131,
                      4.09
                    ],
                    [
                      7.13,
                      23.43,
                      0.111,
                      5.54
                    ],
                    [
                      6.63,
                      23.04,
                      0.125,
                      6.16
                    ],
                    [
                      7.77,
                      24.28,
                      0.191,
                      3.74
                    ],
                    [
                      6.75,
                      24.3,
                      0.334,
                      4.38
                    ],
                    [
                      5.94,
                      22.66,
                      0.334,
                      4.22
                    ],
                    [
                      6.49,
                      23.46,
                      0.277,
                      4.76
                    ],
                    [
                      5.64,
                      21.86,
                      0.176,
                      6.38
                    ],
                    [
                      5.11,
                      21.55,
                      0.146,
                      7.88
                    ],
                    [
                      8.09,
                      23.46,
                      0.008,
                      4.5
                    ],
                    [
                      7.18,
                      23.57,
                      0.064,
                      6.35
                    ],
                    [
                      5.97,
                      20.43,
                      0.145,
                      3.82
                    ],
                    [
                      7.56,
                      24.63,
                      0.066,
                      6.8
                    ],
                    [
                      8.13,
                      25.24,
                      0.091,
                      5.73
                    ],
                    [
                      7.34,
                      23.1,
                      0.086,
                      4.86
                    ],
                    [
                      7.9,
                      24.1,
                      0.08,
                      4.85
                    ],
                    [
                      2.64,
                      19.55,
                      0.324,
                      9.08
                    ]
                  ],
                  "hovertemplate": "<b>%{hovertext}</b><br><br>score=%{customdata[0]}<br>lat=%{lat}<br>lon=%{lon}<br>avg_temp_day=%{marker.color}<br>avg_pop=%{customdata[2]}<br>avg_wind_speed=%{customdata[3]}<extra></extra>",
                  "hovertext": [
                    "Mont Saint Michel",
                    "St Malo",
                    "Bayeux",
                    "Le Havre",
                    "Rouen",
                    "Paris",
                    "Amiens",
                    "Lille",
                    "Strasbourg",
                    "Chateau du Haut Koenigsbourg",
                    "Colmar",
                    "Eguisheim",
                    "Besancon",
                    "Dijon",
                    "Annecy",
                    "Grenoble",
                    "Lyon",
                    "Verdon Gorge",
                    "Bormes les Mimosas",
                    "Cassis",
                    "Marseille",
                    "Aix en Provence",
                    "Avignon",
                    "Uzès",
                    "Nímes",
                    "Aigues Mortes",
                    "Saintes Maries de la mer",
                    "Collioure",
                    "Carcassonne",
                    "Ariege",
                    "Toulouse",
                    "Montauban",
                    "Biarritz",
                    "Bayonne",
                    "La Rochelle"
                  ],
                  "lat": [
                    48.6359541,
                    48.649518,
                    49.2764624,
                    49.4938975,
                    49.4404591,
                    48.8588897,
                    49.8941708,
                    50.6365654,
                    48.584614,
                    48.249489800000006,
                    48.0777517,
                    48.0447968,
                    47.2380222,
                    47.3215806,
                    45.8992348,
                    45.1875602,
                    45.7578137,
                    43.7496562,
                    43.1506968,
                    43.2140359,
                    43.2961743,
                    43.5298424,
                    43.9492493,
                    44.0121279,
                    43.8374249,
                    43.5658225,
                    43.4522771,
                    42.52505,
                    43.2130358,
                    42.9455368,
                    43.6044622,
                    44.0175835,
                    43.471143749999996,
                    43.4945144,
                    46.1591126
                  ],
                  "legendgroup": "",
                  "lon": [
                    -1.511459954959514,
                    -2.0260409,
                    -0.7024738,
                    0.1079732,
                    1.0939658,
                    2.3200410217200766,
                    2.2956951,
                    3.0635282,
                    7.7507127,
                    7.34429620253195,
                    7.3579641,
                    7.3079618,
                    6.0243622,
                    5.0414701,
                    6.1288847,
                    5.7357819,
                    4.8320114,
                    6.3285616,
                    6.3419285,
                    5.5396318,
                    5.3699525,
                    5.4474738,
                    4.8059012,
                    4.4196718,
                    4.3600687,
                    4.1912837,
                    4.4287172,
                    3.0831554,
                    2.3491069,
                    1.4065544156065486,
                    1.4442469,
                    1.3549991,
                    -1.552726590666314,
                    -1.4736657,
                    -1.1520434
                  ],
                  "marker": {
                    "color": [
                      18.16,
                      17.96,
                      18.47,
                      17.99,
                      19.44,
                      20.74,
                      19.57,
                      18.98,
                      19.41,
                      17.64,
                      20.3,
                      20.44,
                      20.78,
                      20.1,
                      20.39,
                      23.47,
                      22.05,
                      20.93,
                      22.4,
                      23.43,
                      23.04,
                      24.28,
                      24.3,
                      22.66,
                      23.46,
                      21.86,
                      21.55,
                      23.46,
                      23.57,
                      20.43,
                      24.63,
                      25.24,
                      23.1,
                      24.1,
                      19.55
                    ],
                    "coloraxis": "coloraxis",
                    "opacity": 0.9,
                    "size": [
                      1.34,
                      1.25,
                      1.68,
                      1.06,
                      3.61,
                      5.67,
                      3.75,
                      3.55,
                      2.91,
                      2.75,
                      4.08,
                      4.09,
                      3.96,
                      3.96,
                      4.85,
                      6.42,
                      5.23,
                      6.24,
                      6.99,
                      7.13,
                      6.63,
                      7.77,
                      6.75,
                      5.94,
                      6.49,
                      5.64,
                      5.11,
                      8.09,
                      7.18,
                      5.97,
                      7.56,
                      8.13,
                      7.34,
                      7.9,
                      2.64
                    ],
                    "sizemode": "area",
                    "sizeref": 0.020325000000000003
                  },
                  "mode": "markers",
                  "name": "",
                  "showlegend": false,
                  "subplot": "mapbox",
                  "type": "scattermapbox"
                }
              ],
              "layout": {
                "coloraxis": {
                  "colorbar": {
                    "title": {
                      "text": "avg_temp_day"
                    }
                  },
                  "colorscale": [
                    [
                      0,
                      "rgb(0,0,131)"
                    ],
                    [
                      0.2,
                      "rgb(0,60,170)"
                    ],
                    [
                      0.4,
                      "rgb(5,255,255)"
                    ],
                    [
                      0.6,
                      "rgb(255,255,0)"
                    ],
                    [
                      0.8,
                      "rgb(250,0,0)"
                    ],
                    [
                      1,
                      "rgb(128,0,0)"
                    ]
                  ]
                },
                "height": 700,
                "hovermode": "closest",
                "legend": {
                  "itemsizing": "constant",
                  "tracegroupgap": 0
                },
                "mapbox": {
                  "center": {
                    "lat": 45.84098649,
                    "lon": 3.3959283312637916
                  },
                  "domain": {
                    "x": [
                      0,
                      1
                    ],
                    "y": [
                      0,
                      1
                    ]
                  },
                  "style": "open-street-map",
                  "zoom": 4.6
                },
                "template": {
                  "data": {
                    "bar": [
                      {
                        "error_x": {
                          "color": "#2a3f5f"
                        },
                        "error_y": {
                          "color": "#2a3f5f"
                        },
                        "marker": {
                          "line": {
                            "color": "#E5ECF6",
                            "width": 0.5
                          },
                          "pattern": {
                            "fillmode": "overlay",
                            "size": 10,
                            "solidity": 0.2
                          }
                        },
                        "type": "bar"
                      }
                    ],
                    "barpolar": [
                      {
                        "marker": {
                          "line": {
                            "color": "#E5ECF6",
                            "width": 0.5
                          },
                          "pattern": {
                            "fillmode": "overlay",
                            "size": 10,
                            "solidity": 0.2
                          }
                        },
                        "type": "barpolar"
                      }
                    ],
                    "carpet": [
                      {
                        "aaxis": {
                          "endlinecolor": "#2a3f5f",
                          "gridcolor": "white",
                          "linecolor": "white",
                          "minorgridcolor": "white",
                          "startlinecolor": "#2a3f5f"
                        },
                        "baxis": {
                          "endlinecolor": "#2a3f5f",
                          "gridcolor": "white",
                          "linecolor": "white",
                          "minorgridcolor": "white",
                          "startlinecolor": "#2a3f5f"
                        },
                        "type": "carpet"
                      }
                    ],
                    "choropleth": [
                      {
                        "colorbar": {
                          "outlinewidth": 0,
                          "ticks": ""
                        },
                        "type": "choropleth"
                      }
                    ],
                    "contour": [
                      {
                        "colorbar": {
                          "outlinewidth": 0,
                          "ticks": ""
                        },
                        "colorscale": [
                          [
                            0,
                            "#0d0887"
                          ],
                          [
                            0.1111111111111111,
                            "#46039f"
                          ],
                          [
                            0.2222222222222222,
                            "#7201a8"
                          ],
                          [
                            0.3333333333333333,
                            "#9c179e"
                          ],
                          [
                            0.4444444444444444,
                            "#bd3786"
                          ],
                          [
                            0.5555555555555556,
                            "#d8576b"
                          ],
                          [
                            0.6666666666666666,
                            "#ed7953"
                          ],
                          [
                            0.7777777777777778,
                            "#fb9f3a"
                          ],
                          [
                            0.8888888888888888,
                            "#fdca26"
                          ],
                          [
                            1,
                            "#f0f921"
                          ]
                        ],
                        "type": "contour"
                      }
                    ],
                    "contourcarpet": [
                      {
                        "colorbar": {
                          "outlinewidth": 0,
                          "ticks": ""
                        },
                        "type": "contourcarpet"
                      }
                    ],
                    "heatmap": [
                      {
                        "colorbar": {
                          "outlinewidth": 0,
                          "ticks": ""
                        },
                        "colorscale": [
                          [
                            0,
                            "#0d0887"
                          ],
                          [
                            0.1111111111111111,
                            "#46039f"
                          ],
                          [
                            0.2222222222222222,
                            "#7201a8"
                          ],
                          [
                            0.3333333333333333,
                            "#9c179e"
                          ],
                          [
                            0.4444444444444444,
                            "#bd3786"
                          ],
                          [
                            0.5555555555555556,
                            "#d8576b"
                          ],
                          [
                            0.6666666666666666,
                            "#ed7953"
                          ],
                          [
                            0.7777777777777778,
                            "#fb9f3a"
                          ],
                          [
                            0.8888888888888888,
                            "#fdca26"
                          ],
                          [
                            1,
                            "#f0f921"
                          ]
                        ],
                        "type": "heatmap"
                      }
                    ],
                    "heatmapgl": [
                      {
                        "colorbar": {
                          "outlinewidth": 0,
                          "ticks": ""
                        },
                        "colorscale": [
                          [
                            0,
                            "#0d0887"
                          ],
                          [
                            0.1111111111111111,
                            "#46039f"
                          ],
                          [
                            0.2222222222222222,
                            "#7201a8"
                          ],
                          [
                            0.3333333333333333,
                            "#9c179e"
                          ],
                          [
                            0.4444444444444444,
                            "#bd3786"
                          ],
                          [
                            0.5555555555555556,
                            "#d8576b"
                          ],
                          [
                            0.6666666666666666,
                            "#ed7953"
                          ],
                          [
                            0.7777777777777778,
                            "#fb9f3a"
                          ],
                          [
                            0.8888888888888888,
                            "#fdca26"
                          ],
                          [
                            1,
                            "#f0f921"
                          ]
                        ],
                        "type": "heatmapgl"
                      }
                    ],
                    "histogram": [
                      {
                        "marker": {
                          "pattern": {
                            "fillmode": "overlay",
                            "size": 10,
                            "solidity": 0.2
                          }
                        },
                        "type": "histogram"
                      }
                    ],
                    "histogram2d": [
                      {
                        "colorbar": {
                          "outlinewidth": 0,
                          "ticks": ""
                        },
                        "colorscale": [
                          [
                            0,
                            "#0d0887"
                          ],
                          [
                            0.1111111111111111,
                            "#46039f"
                          ],
                          [
                            0.2222222222222222,
                            "#7201a8"
                          ],
                          [
                            0.3333333333333333,
                            "#9c179e"
                          ],
                          [
                            0.4444444444444444,
                            "#bd3786"
                          ],
                          [
                            0.5555555555555556,
                            "#d8576b"
                          ],
                          [
                            0.6666666666666666,
                            "#ed7953"
                          ],
                          [
                            0.7777777777777778,
                            "#fb9f3a"
                          ],
                          [
                            0.8888888888888888,
                            "#fdca26"
                          ],
                          [
                            1,
                            "#f0f921"
                          ]
                        ],
                        "type": "histogram2d"
                      }
                    ],
                    "histogram2dcontour": [
                      {
                        "colorbar": {
                          "outlinewidth": 0,
                          "ticks": ""
                        },
                        "colorscale": [
                          [
                            0,
                            "#0d0887"
                          ],
                          [
                            0.1111111111111111,
                            "#46039f"
                          ],
                          [
                            0.2222222222222222,
                            "#7201a8"
                          ],
                          [
                            0.3333333333333333,
                            "#9c179e"
                          ],
                          [
                            0.4444444444444444,
                            "#bd3786"
                          ],
                          [
                            0.5555555555555556,
                            "#d8576b"
                          ],
                          [
                            0.6666666666666666,
                            "#ed7953"
                          ],
                          [
                            0.7777777777777778,
                            "#fb9f3a"
                          ],
                          [
                            0.8888888888888888,
                            "#fdca26"
                          ],
                          [
                            1,
                            "#f0f921"
                          ]
                        ],
                        "type": "histogram2dcontour"
                      }
                    ],
                    "mesh3d": [
                      {
                        "colorbar": {
                          "outlinewidth": 0,
                          "ticks": ""
                        },
                        "type": "mesh3d"
                      }
                    ],
                    "parcoords": [
                      {
                        "line": {
                          "colorbar": {
                            "outlinewidth": 0,
                            "ticks": ""
                          }
                        },
                        "type": "parcoords"
                      }
                    ],
                    "pie": [
                      {
                        "automargin": true,
                        "type": "pie"
                      }
                    ],
                    "scatter": [
                      {
                        "marker": {
                          "colorbar": {
                            "outlinewidth": 0,
                            "ticks": ""
                          }
                        },
                        "type": "scatter"
                      }
                    ],
                    "scatter3d": [
                      {
                        "line": {
                          "colorbar": {
                            "outlinewidth": 0,
                            "ticks": ""
                          }
                        },
                        "marker": {
                          "colorbar": {
                            "outlinewidth": 0,
                            "ticks": ""
                          }
                        },
                        "type": "scatter3d"
                      }
                    ],
                    "scattercarpet": [
                      {
                        "marker": {
                          "colorbar": {
                            "outlinewidth": 0,
                            "ticks": ""
                          }
                        },
                        "type": "scattercarpet"
                      }
                    ],
                    "scattergeo": [
                      {
                        "marker": {
                          "colorbar": {
                            "outlinewidth": 0,
                            "ticks": ""
                          }
                        },
                        "type": "scattergeo"
                      }
                    ],
                    "scattergl": [
                      {
                        "marker": {
                          "colorbar": {
                            "outlinewidth": 0,
                            "ticks": ""
                          }
                        },
                        "type": "scattergl"
                      }
                    ],
                    "scattermapbox": [
                      {
                        "marker": {
                          "colorbar": {
                            "outlinewidth": 0,
                            "ticks": ""
                          }
                        },
                        "type": "scattermapbox"
                      }
                    ],
                    "scatterpolar": [
                      {
                        "marker": {
                          "colorbar": {
                            "outlinewidth": 0,
                            "ticks": ""
                          }
                        },
                        "type": "scatterpolar"
                      }
                    ],
                    "scatterpolargl": [
                      {
                        "marker": {
                          "colorbar": {
                            "outlinewidth": 0,
                            "ticks": ""
                          }
                        },
                        "type": "scatterpolargl"
                      }
                    ],
                    "scatterternary": [
                      {
                        "marker": {
                          "colorbar": {
                            "outlinewidth": 0,
                            "ticks": ""
                          }
                        },
                        "type": "scatterternary"
                      }
                    ],
                    "surface": [
                      {
                        "colorbar": {
                          "outlinewidth": 0,
                          "ticks": ""
                        },
                        "colorscale": [
                          [
                            0,
                            "#0d0887"
                          ],
                          [
                            0.1111111111111111,
                            "#46039f"
                          ],
                          [
                            0.2222222222222222,
                            "#7201a8"
                          ],
                          [
                            0.3333333333333333,
                            "#9c179e"
                          ],
                          [
                            0.4444444444444444,
                            "#bd3786"
                          ],
                          [
                            0.5555555555555556,
                            "#d8576b"
                          ],
                          [
                            0.6666666666666666,
                            "#ed7953"
                          ],
                          [
                            0.7777777777777778,
                            "#fb9f3a"
                          ],
                          [
                            0.8888888888888888,
                            "#fdca26"
                          ],
                          [
                            1,
                            "#f0f921"
                          ]
                        ],
                        "type": "surface"
                      }
                    ],
                    "table": [
                      {
                        "cells": {
                          "fill": {
                            "color": "#EBF0F8"
                          },
                          "line": {
                            "color": "white"
                          }
                        },
                        "header": {
                          "fill": {
                            "color": "#C8D4E3"
                          },
                          "line": {
                            "color": "white"
                          }
                        },
                        "type": "table"
                      }
                    ]
                  },
                  "layout": {
                    "annotationdefaults": {
                      "arrowcolor": "#2a3f5f",
                      "arrowhead": 0,
                      "arrowwidth": 1
                    },
                    "autotypenumbers": "strict",
                    "coloraxis": {
                      "colorbar": {
                        "outlinewidth": 0,
                        "ticks": ""
                      }
                    },
                    "colorscale": {
                      "diverging": [
                        [
                          0,
                          "#8e0152"
                        ],
                        [
                          0.1,
                          "#c51b7d"
                        ],
                        [
                          0.2,
                          "#de77ae"
                        ],
                        [
                          0.3,
                          "#f1b6da"
                        ],
                        [
                          0.4,
                          "#fde0ef"
                        ],
                        [
                          0.5,
                          "#f7f7f7"
                        ],
                        [
                          0.6,
                          "#e6f5d0"
                        ],
                        [
                          0.7,
                          "#b8e186"
                        ],
                        [
                          0.8,
                          "#7fbc41"
                        ],
                        [
                          0.9,
                          "#4d9221"
                        ],
                        [
                          1,
                          "#276419"
                        ]
                      ],
                      "sequential": [
                        [
                          0,
                          "#0d0887"
                        ],
                        [
                          0.1111111111111111,
                          "#46039f"
                        ],
                        [
                          0.2222222222222222,
                          "#7201a8"
                        ],
                        [
                          0.3333333333333333,
                          "#9c179e"
                        ],
                        [
                          0.4444444444444444,
                          "#bd3786"
                        ],
                        [
                          0.5555555555555556,
                          "#d8576b"
                        ],
                        [
                          0.6666666666666666,
                          "#ed7953"
                        ],
                        [
                          0.7777777777777778,
                          "#fb9f3a"
                        ],
                        [
                          0.8888888888888888,
                          "#fdca26"
                        ],
                        [
                          1,
                          "#f0f921"
                        ]
                      ],
                      "sequentialminus": [
                        [
                          0,
                          "#0d0887"
                        ],
                        [
                          0.1111111111111111,
                          "#46039f"
                        ],
                        [
                          0.2222222222222222,
                          "#7201a8"
                        ],
                        [
                          0.3333333333333333,
                          "#9c179e"
                        ],
                        [
                          0.4444444444444444,
                          "#bd3786"
                        ],
                        [
                          0.5555555555555556,
                          "#d8576b"
                        ],
                        [
                          0.6666666666666666,
                          "#ed7953"
                        ],
                        [
                          0.7777777777777778,
                          "#fb9f3a"
                        ],
                        [
                          0.8888888888888888,
                          "#fdca26"
                        ],
                        [
                          1,
                          "#f0f921"
                        ]
                      ]
                    },
                    "colorway": [
                      "#636efa",
                      "#EF553B",
                      "#00cc96",
                      "#ab63fa",
                      "#FFA15A",
                      "#19d3f3",
                      "#FF6692",
                      "#B6E880",
                      "#FF97FF",
                      "#FECB52"
                    ],
                    "font": {
                      "color": "#2a3f5f"
                    },
                    "geo": {
                      "bgcolor": "white",
                      "lakecolor": "white",
                      "landcolor": "#E5ECF6",
                      "showlakes": true,
                      "showland": true,
                      "subunitcolor": "white"
                    },
                    "hoverlabel": {
                      "align": "left"
                    },
                    "hovermode": "closest",
                    "mapbox": {
                      "style": "light"
                    },
                    "paper_bgcolor": "white",
                    "plot_bgcolor": "#E5ECF6",
                    "polar": {
                      "angularaxis": {
                        "gridcolor": "white",
                        "linecolor": "white",
                        "ticks": ""
                      },
                      "bgcolor": "#E5ECF6",
                      "radialaxis": {
                        "gridcolor": "white",
                        "linecolor": "white",
                        "ticks": ""
                      }
                    },
                    "scene": {
                      "xaxis": {
                        "backgroundcolor": "#E5ECF6",
                        "gridcolor": "white",
                        "gridwidth": 2,
                        "linecolor": "white",
                        "showbackground": true,
                        "ticks": "",
                        "zerolinecolor": "white"
                      },
                      "yaxis": {
                        "backgroundcolor": "#E5ECF6",
                        "gridcolor": "white",
                        "gridwidth": 2,
                        "linecolor": "white",
                        "showbackground": true,
                        "ticks": "",
                        "zerolinecolor": "white"
                      },
                      "zaxis": {
                        "backgroundcolor": "#E5ECF6",
                        "gridcolor": "white",
                        "gridwidth": 2,
                        "linecolor": "white",
                        "showbackground": true,
                        "ticks": "",
                        "zerolinecolor": "white"
                      }
                    },
                    "shapedefaults": {
                      "line": {
                        "color": "#2a3f5f"
                      }
                    },
                    "ternary": {
                      "aaxis": {
                        "gridcolor": "white",
                        "linecolor": "white",
                        "ticks": ""
                      },
                      "baxis": {
                        "gridcolor": "white",
                        "linecolor": "white",
                        "ticks": ""
                      },
                      "bgcolor": "#E5ECF6",
                      "caxis": {
                        "gridcolor": "white",
                        "linecolor": "white",
                        "ticks": ""
                      }
                    },
                    "title": {
                      "x": 0.05
                    },
                    "xaxis": {
                      "automargin": true,
                      "gridcolor": "white",
                      "linecolor": "white",
                      "ticks": "",
                      "title": {
                        "standoff": 15
                      },
                      "zerolinecolor": "white",
                      "zerolinewidth": 2
                    },
                    "yaxis": {
                      "automargin": true,
                      "gridcolor": "white",
                      "linecolor": "white",
                      "ticks": "",
                      "title": {
                        "standoff": 15
                      },
                      "zerolinecolor": "white",
                      "zerolinewidth": 2
                    }
                  }
                },
                "title": {
                  "text": "Top 35 destinations with weather information"
                }
              }
            }
          },
          "metadata": {},
          "output_type": "display_data"
        }
      ],
      "source": [
        "#plotting a map with all city rankings\n",
        "#all 35 destinations are plotted below to have an insight\n",
        "fig1 = px.scatter_mapbox(\n",
        "    df0,\n",
        "    lat=\"lat\",\n",
        "    lon=\"lon\",\n",
        "    zoom = 4.6,\n",
        "    color='avg_temp_day',\n",
        "    size = 'score',\n",
        "    title = 'Top 35 destinations with weather information',\n",
        "    mapbox_style=\"open-street-map\",#\"outdoors\",\n",
        "    color_continuous_scale='jet',\n",
        "    opacity = 0.9,\n",
        "    height = 700,\n",
        "    hover_name = 'city',\n",
        "    hover_data=['score','avg_temp_day','avg_pop', 'avg_wind_speed']\n",
        "    )\n",
        "\n",
        "fig1.update_layout(hovermode=\"closest\")"
      ]
    },
    {
      "cell_type": "code",
      "execution_count": 79,
      "metadata": {},
      "outputs": [],
      "source": [
        "#saving a map with top 5 rankings\n",
        "#all 35 destinations are plotted below to have an insight\n",
        "fig1 = px.scatter_mapbox(\n",
        "    df0.sort_values(by='score',ascending=False).head(5), #selecting top 5 cities \n",
        "    lat=\"lat\",\n",
        "    lon=\"lon\",\n",
        "    zoom = 4.6,\n",
        "    color='avg_temp_day',\n",
        "    size = 'score',\n",
        "    title = 'Top 5 destinations with weather information',\n",
        "    mapbox_style=\"open-street-map\",#\"outdoors\",\n",
        "    color_continuous_scale='jet',\n",
        "    opacity = 0.9,\n",
        "    height = 700,\n",
        "    hover_name = 'city',\n",
        "    hover_data=['score','avg_temp_day','avg_pop', 'avg_wind_speed']\n",
        "    )\n",
        "\n",
        "fig1.update_layout(hovermode=\"closest\")\n",
        "fig1.write_html(\"..\\\\deliverables\\\\weather_score_top_5_fr_cities.html\")\n"
      ]
    },
    {
      "cell_type": "code",
      "execution_count": 80,
      "metadata": {},
      "outputs": [],
      "source": [
        "#checkpoint 2 \n",
        "df0.to_csv(\"..\\\\data\\\\checkpoint2.csv\", index=False)"
      ]
    },
    {
      "cell_type": "markdown",
      "metadata": {
        "id": "Yth4aVMGOPn3"
      },
      "source": [
        "## 3 - Scrapping data from booking.com\n",
        "\n",
        "Booking.com doesn't have aggregated databases so it is recommended to scrape data directly. \n",
        "\n",
        "The scrapped data should include the followings:\n",
        "\n",
        "*   hotel name,\n",
        "*   Url to its booking.com page,\n",
        "*   Its coordinates: latitude and longitude\n",
        "*   Score given by the website users\n",
        "*   Text description of the hotel"
      ]
    },
    {
      "cell_type": "code",
      "execution_count": 81,
      "metadata": {},
      "outputs": [],
      "source": [
        "%%capture\n",
        "!python ../src/bookinghotel.py"
      ]
    },
    {
      "cell_type": "code",
      "execution_count": 82,
      "metadata": {},
      "outputs": [
        {
          "data": {
            "text/plain": [
              "(125, 5)"
            ]
          },
          "execution_count": 82,
          "metadata": {},
          "output_type": "execute_result"
        }
      ],
      "source": [
        "df_hotels=pd.read_csv('..\\\\data\\\\hotellist.csv')\n",
        "df_hotels.shape"
      ]
    },
    {
      "cell_type": "code",
      "execution_count": 83,
      "metadata": {},
      "outputs": [
        {
          "data": {
            "text/html": [
              "<div>\n",
              "<style scoped>\n",
              "    .dataframe tbody tr th:only-of-type {\n",
              "        vertical-align: middle;\n",
              "    }\n",
              "\n",
              "    .dataframe tbody tr th {\n",
              "        vertical-align: top;\n",
              "    }\n",
              "\n",
              "    .dataframe thead th {\n",
              "        text-align: right;\n",
              "    }\n",
              "</style>\n",
              "<table border=\"1\" class=\"dataframe\">\n",
              "  <thead>\n",
              "    <tr style=\"text-align: right;\">\n",
              "      <th></th>\n",
              "      <th>hotel_city</th>\n",
              "      <th>hotel_name</th>\n",
              "      <th>hotel_score</th>\n",
              "      <th>hotel_desc</th>\n",
              "      <th>hotel_url</th>\n",
              "    </tr>\n",
              "  </thead>\n",
              "  <tbody>\n",
              "    <tr>\n",
              "      <th>0</th>\n",
              "      <td>Bayonne</td>\n",
              "      <td>Villa la Renaissance</td>\n",
              "      <td>9.3</td>\n",
              "      <td>Deluxe Double Room</td>\n",
              "      <td>https://www.booking.com/hotel/fr/villa-la-rena...</td>\n",
              "    </tr>\n",
              "    <tr>\n",
              "      <th>1</th>\n",
              "      <td>Bayonne</td>\n",
              "      <td>Hôtel Villa KOEGUI Bayonne</td>\n",
              "      <td>9.0</td>\n",
              "      <td>Superior Room</td>\n",
              "      <td>https://www.booking.com/hotel/fr/villa-koegui-...</td>\n",
              "    </tr>\n",
              "    <tr>\n",
              "      <th>2</th>\n",
              "      <td>Bayonne</td>\n",
              "      <td>Hôtel Le Bayonne</td>\n",
              "      <td>7.8</td>\n",
              "      <td>Classic Double Room</td>\n",
              "      <td>https://www.booking.com/hotel/fr/le-bayonne-ha...</td>\n",
              "    </tr>\n",
              "    <tr>\n",
              "      <th>3</th>\n",
              "      <td>Bayonne</td>\n",
              "      <td>Temporesidence Cathedrale</td>\n",
              "      <td>7.9</td>\n",
              "      <td>Superior Studio</td>\n",
              "      <td>https://www.booking.com/hotel/fr/temporesidenc...</td>\n",
              "    </tr>\n",
              "    <tr>\n",
              "      <th>4</th>\n",
              "      <td>Bayonne</td>\n",
              "      <td>Okko Hotels Bayonne Centre</td>\n",
              "      <td>8.2</td>\n",
              "      <td>Classic Room</td>\n",
              "      <td>https://www.booking.com/hotel/fr/okko-hotels-b...</td>\n",
              "    </tr>\n",
              "  </tbody>\n",
              "</table>\n",
              "</div>"
            ],
            "text/plain": [
              "  hotel_city                  hotel_name  hotel_score           hotel_desc  \\\n",
              "0    Bayonne        Villa la Renaissance          9.3   Deluxe Double Room   \n",
              "1    Bayonne  Hôtel Villa KOEGUI Bayonne          9.0        Superior Room   \n",
              "2    Bayonne            Hôtel Le Bayonne          7.8  Classic Double Room   \n",
              "3    Bayonne   Temporesidence Cathedrale          7.9      Superior Studio   \n",
              "4    Bayonne  Okko Hotels Bayonne Centre          8.2         Classic Room   \n",
              "\n",
              "                                           hotel_url  \n",
              "0  https://www.booking.com/hotel/fr/villa-la-rena...  \n",
              "1  https://www.booking.com/hotel/fr/villa-koegui-...  \n",
              "2  https://www.booking.com/hotel/fr/le-bayonne-ha...  \n",
              "3  https://www.booking.com/hotel/fr/temporesidenc...  \n",
              "4  https://www.booking.com/hotel/fr/okko-hotels-b...  "
            ]
          },
          "execution_count": 83,
          "metadata": {},
          "output_type": "execute_result"
        }
      ],
      "source": [
        "df_hotels.head()"
      ]
    },
    {
      "cell_type": "code",
      "execution_count": 84,
      "metadata": {},
      "outputs": [
        {
          "data": {
            "text/plain": [
              "Bayonne            25\n",
              "Montauban          25\n",
              "Aix-en-Provence    25\n",
              "Toulouse           25\n",
              "Collioure          25\n",
              "Name: hotel_city, dtype: int64"
            ]
          },
          "execution_count": 84,
          "metadata": {},
          "output_type": "execute_result"
        }
      ],
      "source": [
        "df_hotels[\"hotel_city\"].value_counts()"
      ]
    },
    {
      "cell_type": "markdown",
      "metadata": {},
      "source": [
        "Hotel list seems correct. It misses the lat and long of hotels. After reviewing Booking.com, I realized that they deleted the coordinates of listings from search result. They are available in each hotel's booking.com page. There is another round of scraping below."
      ]
    },
    {
      "cell_type": "code",
      "execution_count": 88,
      "metadata": {},
      "outputs": [],
      "source": [
        "%%capture\n",
        "!python ../src/bookinghotel_latlons.py"
      ]
    },
    {
      "cell_type": "code",
      "execution_count": 89,
      "metadata": {},
      "outputs": [
        {
          "data": {
            "text/plain": [
              "(125, 3)"
            ]
          },
          "execution_count": 89,
          "metadata": {},
          "output_type": "execute_result"
        }
      ],
      "source": [
        "df_hotels_latlon=pd.read_csv('..\\\\data\\\\hotellist_latlons.csv')\n",
        "df_hotels_latlon.shape"
      ]
    },
    {
      "cell_type": "code",
      "execution_count": 90,
      "metadata": {},
      "outputs": [
        {
          "data": {
            "text/html": [
              "<div>\n",
              "<style scoped>\n",
              "    .dataframe tbody tr th:only-of-type {\n",
              "        vertical-align: middle;\n",
              "    }\n",
              "\n",
              "    .dataframe tbody tr th {\n",
              "        vertical-align: top;\n",
              "    }\n",
              "\n",
              "    .dataframe thead th {\n",
              "        text-align: right;\n",
              "    }\n",
              "</style>\n",
              "<table border=\"1\" class=\"dataframe\">\n",
              "  <thead>\n",
              "    <tr style=\"text-align: right;\">\n",
              "      <th></th>\n",
              "      <th>hotel_name</th>\n",
              "      <th>lat</th>\n",
              "      <th>lon</th>\n",
              "    </tr>\n",
              "  </thead>\n",
              "  <tbody>\n",
              "    <tr>\n",
              "      <th>0</th>\n",
              "      <td>Hotel Loreak</td>\n",
              "      <td>43.493491</td>\n",
              "      <td>-1.452633</td>\n",
              "    </tr>\n",
              "    <tr>\n",
              "      <th>1</th>\n",
              "      <td>Hôtel Villa KOEGUI Bayonne</td>\n",
              "      <td>43.492371</td>\n",
              "      <td>-1.472588</td>\n",
              "    </tr>\n",
              "    <tr>\n",
              "      <th>2</th>\n",
              "      <td>Okko Hotels Bayonne Centre</td>\n",
              "      <td>43.495344</td>\n",
              "      <td>-1.482512</td>\n",
              "    </tr>\n",
              "    <tr>\n",
              "      <th>3</th>\n",
              "      <td>Temporesidence Cathedrale</td>\n",
              "      <td>43.489542</td>\n",
              "      <td>-1.478124</td>\n",
              "    </tr>\n",
              "    <tr>\n",
              "      <th>4</th>\n",
              "      <td>Hôtel Le Bayonne</td>\n",
              "      <td>43.485026</td>\n",
              "      <td>-1.475371</td>\n",
              "    </tr>\n",
              "  </tbody>\n",
              "</table>\n",
              "</div>"
            ],
            "text/plain": [
              "                   hotel_name        lat       lon\n",
              "0                Hotel Loreak  43.493491 -1.452633\n",
              "1  Hôtel Villa KOEGUI Bayonne  43.492371 -1.472588\n",
              "2  Okko Hotels Bayonne Centre  43.495344 -1.482512\n",
              "3   Temporesidence Cathedrale  43.489542 -1.478124\n",
              "4            Hôtel Le Bayonne  43.485026 -1.475371"
            ]
          },
          "execution_count": 90,
          "metadata": {},
          "output_type": "execute_result"
        }
      ],
      "source": [
        "df_hotels_latlon.head()"
      ]
    },
    {
      "cell_type": "code",
      "execution_count": 91,
      "metadata": {},
      "outputs": [],
      "source": [
        "#now I have two different files for the hotel list. let's combine them\n",
        "left = df_hotels\n",
        "right = df_hotels_latlon\n",
        "df1 =pd.merge(left,right,on=['hotel_name'])"
      ]
    },
    {
      "cell_type": "code",
      "execution_count": 92,
      "metadata": {},
      "outputs": [],
      "source": [
        "#checkpoint 3\n",
        "df1.to_csv(\"..\\\\data\\\\checkpoint3.csv\", index=False)"
      ]
    },
    {
      "cell_type": "code",
      "execution_count": 93,
      "metadata": {},
      "outputs": [],
      "source": [
        "top5city = pd.read_csv(\"..\\\\data\\\\top5city.csv\")\n",
        "top5city.head()\n",
        "top5city =top5city.rename(columns={'score':'weather_score' , 'lat' : 'lat_city', 'lon':'lon_city'})"
      ]
    },
    {
      "cell_type": "code",
      "execution_count": 96,
      "metadata": {},
      "outputs": [],
      "source": [
        "#let's merge weather scores in df1\n",
        "df1['city'] = df1.hotel_city.str.replace('-',' ')\n",
        "left = df1\n",
        "right = top5city\n",
        "df1 = pd.merge(left,right,on = 'city')\n"
      ]
    },
    {
      "cell_type": "code",
      "execution_count": 98,
      "metadata": {},
      "outputs": [],
      "source": [
        "#I select top 20 hotels in top 5 cities below as requested by the project\n",
        "df2 = pd.DataFrame ([], columns=df1.columns)\n",
        "for city in df1['city'].unique():\n",
        "    mask_ = df1['city'] == city\n",
        "    df_add =  df1[mask_].sort_values(by='hotel_score',ascending=False).head(20)\n",
        "    df2= pd.concat( [df2,df_add])"
      ]
    },
    {
      "cell_type": "code",
      "execution_count": 99,
      "metadata": {},
      "outputs": [],
      "source": [
        "#re arranging df with respect to scores\n",
        "df2 = df2.sort_values(by = ['weather_score', 'hotel_score'], ascending=False)"
      ]
    },
    {
      "cell_type": "code",
      "execution_count": 100,
      "metadata": {},
      "outputs": [],
      "source": [
        "#outputing df to csv\n",
        "df2.to_csv(\"..\\\\deliverables\\\\top20hotelstop5cities.csv\", index=False)"
      ]
    },
    {
      "cell_type": "code",
      "execution_count": 101,
      "metadata": {},
      "outputs": [],
      "source": [
        "#reading the last output\n",
        "#df2=pd.read_csv(\"..\\\\deliverables\\\\top20hotelstop5cities.csv\")"
      ]
    },
    {
      "cell_type": "code",
      "execution_count": 102,
      "metadata": {},
      "outputs": [
        {
          "data": {
            "text/plain": [
              "Index(['hotel_city', 'hotel_name', 'hotel_score', 'hotel_desc', 'hotel_url',\n",
              "       'lat', 'lon', 'city', 'lat_city', 'lon_city', 'd0_wind_speed',\n",
              "       'd1_wind_speed', 'd2_wind_speed', 'd3_wind_speed', 'd4_wind_speed',\n",
              "       'd5_wind_speed', 'd6_wind_speed', 'd7_wind_speed', 'avg_wind_speed',\n",
              "       'd0_pop', 'd1_pop', 'd2_pop', 'd3_pop', 'd4_pop', 'd5_pop', 'd6_pop',\n",
              "       'd7_pop', 'avg_pop', 'd0_temp', 'd1_temp', 'd2_temp', 'd3_temp',\n",
              "       'd4_temp', 'd5_temp', 'd6_temp', 'd7_temp', 'avg_temp_day',\n",
              "       'weather_score'],\n",
              "      dtype='object')"
            ]
          },
          "execution_count": 102,
          "metadata": {},
          "output_type": "execute_result"
        }
      ],
      "source": [
        "df2.hotel_score = df2.hotel_score.astype(float)\n",
        "df2.weather_score = df2.weather_score.astype(float)\n",
        "df2.columns"
      ]
    },
    {
      "cell_type": "code",
      "execution_count": 106,
      "metadata": {},
      "outputs": [
        {
          "data": {
            "application/vnd.plotly.v1+json": {
              "config": {
                "plotlyServerURL": "https://plot.ly"
              },
              "data": [
                {
                  "customdata": [
                    [
                      "L'Escale des Libellules by BNB Conciergerie Mtban",
                      10,
                      "Apartment",
                      8.13,
                      25.24,
                      0.091,
                      5.73
                    ],
                    [
                      "Manoir de la Gravette Maison d'Hôtes",
                      9.6,
                      "Deluxe Double Room",
                      8.13,
                      25.24,
                      0.091,
                      5.73
                    ],
                    [
                      "room five MONTAUBAN",
                      9.5,
                      "One-Bedroom Apartment",
                      8.13,
                      25.24,
                      0.091,
                      5.73
                    ],
                    [
                      "Castel Bois Marie",
                      9.3,
                      "Deluxe King Suite",
                      8.13,
                      25.24,
                      0.091,
                      5.73
                    ],
                    [
                      "Les Chalets du Manoir",
                      9.1,
                      "Double Room",
                      8.13,
                      25.24,
                      0.091,
                      5.73
                    ],
                    [
                      "In Town by BNB Conciergerie Montauban",
                      9,
                      "Studio Apartment",
                      8.13,
                      25.24,
                      0.091,
                      5.73
                    ],
                    [
                      "Les Loges de Montauban",
                      9,
                      "One-Bedroom Apartment",
                      8.13,
                      25.24,
                      0.091,
                      5.73
                    ],
                    [
                      "En toute intimité dans le centre historique",
                      9,
                      "One-Bedroom Apartment",
                      8.13,
                      25.24,
                      0.091,
                      5.73
                    ],
                    [
                      "Domaine de Belcayre",
                      8.9,
                      "Double Room",
                      8.13,
                      25.24,
                      0.091,
                      5.73
                    ],
                    [
                      "Le Clos de Saint Amour",
                      8.8,
                      "Family Room Cupidon",
                      8.13,
                      25.24,
                      0.091,
                      5.73
                    ],
                    [
                      "Moustier",
                      8.6,
                      "One-Bedroom Apartment",
                      8.13,
                      25.24,
                      0.091,
                      5.73
                    ],
                    [
                      "2 appartements Rue du greffe",
                      8.6,
                      "One-Bedroom Apartment",
                      8.13,
                      25.24,
                      0.091,
                      5.73
                    ],
                    [
                      "L'intimiste by BNB Conciergerie Montauban",
                      8.5,
                      "Studio with Sofa Bed",
                      8.13,
                      25.24,
                      0.091,
                      5.73
                    ],
                    [
                      "Abbaye des Capucins Spa & Resort",
                      8.2,
                      "Classic Double Room",
                      8.13,
                      25.24,
                      0.091,
                      5.73
                    ],
                    [
                      "Suite privée avec piscine",
                      8.1,
                      "One-Bedroom Apartment",
                      8.13,
                      25.24,
                      0.091,
                      5.73
                    ],
                    [
                      "COSYment parfait",
                      8.1,
                      "Apartment",
                      8.13,
                      25.24,
                      0.091,
                      5.73
                    ],
                    [
                      "B&B HOTEL Montauban",
                      7.8,
                      "Standard Double Room",
                      8.13,
                      25.24,
                      0.091,
                      5.73
                    ],
                    [
                      "ibis budget Montauban Les Chaumes",
                      7.7,
                      "Triple Room",
                      8.13,
                      25.24,
                      0.091,
                      5.73
                    ],
                    [
                      "Brit Hotel Confort Montauban",
                      7.6,
                      "Standard Double Room",
                      8.13,
                      25.24,
                      0.091,
                      5.73
                    ],
                    [
                      "Hotel Kyriad Montauban",
                      7.4,
                      "Double Room",
                      8.13,
                      25.24,
                      0.091,
                      5.73
                    ],
                    [
                      "L'équinoxe",
                      9.4,
                      "Three-Bedroom Apartment",
                      8.09,
                      23.46,
                      0.008,
                      4.5
                    ],
                    [
                      "location Coma Chéric",
                      9.1,
                      "Three-Bedroom Apartment",
                      8.09,
                      23.46,
                      0.008,
                      4.5
                    ],
                    [
                      "Les Roches Brunes",
                      9,
                      "Double Room with Sea View",
                      8.09,
                      23.46,
                      0.008,
                      4.5
                    ],
                    [
                      "Hôtel La Casa Pairal",
                      8.8,
                      "Collection Double Room",
                      8.09,
                      23.46,
                      0.008,
                      4.5
                    ],
                    [
                      "Le Madeloc Hôtel & Spa",
                      8.8,
                      "Standard Room",
                      8.09,
                      23.46,
                      0.008,
                      4.5
                    ],
                    [
                      "Le Relais Des Trois Mas",
                      8.7,
                      "Comfort Double Room Without Balcony",
                      8.09,
                      23.46,
                      0.008,
                      4.5
                    ],
                    [
                      "Le Machado",
                      8.6,
                      "Deluxe Apartment",
                      8.09,
                      23.46,
                      0.008,
                      4.5
                    ],
                    [
                      "Appartement de charme à 50m de la plage de sable",
                      8.5,
                      "Apartment with Sea View",
                      8.09,
                      23.46,
                      0.008,
                      4.5
                    ],
                    [
                      "Collioure",
                      8.4,
                      "Apartment",
                      8.09,
                      23.46,
                      0.008,
                      4.5
                    ],
                    [
                      "Ibanova Appartements",
                      8.4,
                      "Studio Apartment",
                      8.09,
                      23.46,
                      0.008,
                      4.5
                    ],
                    [
                      "Duplex quartier piéton",
                      8.2,
                      "Two-Bedroom Apartment",
                      8.09,
                      23.46,
                      0.008,
                      4.5
                    ],
                    [
                      "La Frégate",
                      8.2,
                      "Superior Double Room",
                      8.09,
                      23.46,
                      0.008,
                      4.5
                    ],
                    [
                      "Hotel Le Bon Port",
                      8.1,
                      "Double Room with Sea View",
                      8.09,
                      23.46,
                      0.008,
                      4.5
                    ],
                    [
                      "Les Chênes-lièges d'Ambeille",
                      8,
                      "One-Bedroom Apartment",
                      8.09,
                      23.46,
                      0.008,
                      4.5
                    ],
                    [
                      "Magnifique appartement proche centre Collioure",
                      8,
                      "Two-Bedroom Apartment",
                      8.09,
                      23.46,
                      0.008,
                      4.5
                    ],
                    [
                      "Résidence Saint Vincent",
                      8,
                      "Studio third floor",
                      8.09,
                      23.46,
                      0.008,
                      4.5
                    ],
                    [
                      "Le Mas des Citronniers",
                      8,
                      "Classic Double Room",
                      8.09,
                      23.46,
                      0.008,
                      4.5
                    ],
                    [
                      "Hôtel Princes de Catalogne",
                      7.9,
                      "Standard Double or Twin Room",
                      8.09,
                      23.46,
                      0.008,
                      4.5
                    ],
                    [
                      "Le Clos Saint Elme",
                      7.9,
                      "Large Double Room",
                      8.09,
                      23.46,
                      0.008,
                      4.5
                    ],
                    [
                      "Résidence du Soleil",
                      7.8,
                      "Apartment without Balcony",
                      8.09,
                      23.46,
                      0.008,
                      4.5
                    ],
                    [
                      "Villa la Renaissance",
                      9.3,
                      "Deluxe Double Room",
                      7.9,
                      24.1,
                      0.08,
                      4.85
                    ],
                    [
                      "Duplex Typique Centre Bayonne",
                      9.2,
                      "Standard Apartment",
                      7.9,
                      24.1,
                      0.08,
                      4.85
                    ],
                    [
                      "Baiona",
                      9.1,
                      "Apartment",
                      7.9,
                      24.1,
                      0.08,
                      4.85
                    ],
                    [
                      "Hôtel Villa KOEGUI Bayonne",
                      9,
                      "Superior Room",
                      7.9,
                      24.1,
                      0.08,
                      4.85
                    ],
                    [
                      "Baionakoa Résidence",
                      8.9,
                      "Studio",
                      7.9,
                      24.1,
                      0.08,
                      4.85
                    ],
                    [
                      "Bayonne en plein cœur Centre Historique 2 chambres",
                      8.9,
                      "Two-Bedroom Apartment",
                      7.9,
                      24.1,
                      0.08,
                      4.85
                    ],
                    [
                      "Boutique Hôtel Un Appart en Ville",
                      8.9,
                      "One-Bedroom Apartment",
                      7.9,
                      24.1,
                      0.08,
                      4.85
                    ],
                    [
                      "Villa AJNA Bayonne",
                      8.7,
                      "Deluxe Room",
                      7.9,
                      24.1,
                      0.08,
                      4.85
                    ],
                    [
                      "Appartement Bayonne, 3 pièces, 4 personnes - FR-1-239-736",
                      8.7,
                      "Apartment",
                      7.9,
                      24.1,
                      0.08,
                      4.85
                    ],
                    [
                      "T2 au coeur de Bayonne",
                      8.6,
                      "One-Bedroom Apartment",
                      7.9,
                      24.1,
                      0.08,
                      4.85
                    ],
                    [
                      "Hôtel des Basses Pyrénées - Bayonne",
                      8.5,
                      "Prestige Double or Twin Room",
                      7.9,
                      24.1,
                      0.08,
                      4.85
                    ],
                    [
                      "Okko Hotels Bayonne Centre",
                      8.2,
                      "Classic Room",
                      7.9,
                      24.1,
                      0.08,
                      4.85
                    ],
                    [
                      "Hôtel Mercure Bayonne Centre Le Grand Hotel",
                      8.1,
                      "Classic Double Room",
                      7.9,
                      24.1,
                      0.08,
                      4.85
                    ],
                    [
                      "ibis Styles Bayonne",
                      8.1,
                      "Standard Room with 1 Double Bed - Breakfast included",
                      7.9,
                      24.1,
                      0.08,
                      4.85
                    ],
                    [
                      "Hotel Loreak",
                      7.9,
                      "Double Room",
                      7.9,
                      24.1,
                      0.08,
                      4.85
                    ],
                    [
                      "Temporesidence Cathedrale",
                      7.9,
                      "Superior Studio",
                      7.9,
                      24.1,
                      0.08,
                      4.85
                    ],
                    [
                      "Hôtel Le Bayonne",
                      7.8,
                      "Classic Double Room",
                      7.9,
                      24.1,
                      0.08,
                      4.85
                    ],
                    [
                      "ibis budget Bayonne",
                      7.7,
                      "Triple Room",
                      7.9,
                      24.1,
                      0.08,
                      4.85
                    ],
                    [
                      "T2 BASQUE BAYONNE",
                      7.6,
                      "One-Bedroom Apartment",
                      7.9,
                      24.1,
                      0.08,
                      4.85
                    ],
                    [
                      "Temporesidence Chateauneuf",
                      7.3,
                      "Studio",
                      7.9,
                      24.1,
                      0.08,
                      4.85
                    ],
                    [
                      "Belvoir Sissi exclusif Appart piscine chauffée 10 min centre AixenPc",
                      9.9,
                      "Apartment - Ground Floor",
                      7.77,
                      24.28,
                      0.191,
                      3.74
                    ],
                    [
                      "Domaine de Saint Clair",
                      9.7,
                      "Deluxe King Suite",
                      7.77,
                      24.28,
                      0.191,
                      3.74
                    ],
                    [
                      "Maison Jalon",
                      9.6,
                      "Double Room with Pool View",
                      7.77,
                      24.28,
                      0.191,
                      3.74
                    ],
                    [
                      "Villa Saint-Ange",
                      9.3,
                      "Standard Double or Twin Room",
                      7.77,
                      24.28,
                      0.191,
                      3.74
                    ],
                    [
                      "Villa Gallici Hôtel & Spa",
                      9.1,
                      "Classic Double Room with Free Spa Access",
                      7.77,
                      24.28,
                      0.191,
                      3.74
                    ],
                    [
                      "N.8 LIFESTYLE SUITES",
                      9.1,
                      "Deluxe Suite",
                      7.77,
                      24.28,
                      0.191,
                      3.74
                    ],
                    [
                      "Château de la Gaude",
                      9,
                      "Deluxe Room",
                      7.77,
                      24.28,
                      0.191,
                      3.74
                    ],
                    [
                      "Les Lodges Sainte-Victoire Hotel & Spa",
                      9,
                      "Deluxe Double Room with Free Spa Access",
                      7.77,
                      24.28,
                      0.191,
                      3.74
                    ],
                    [
                      "La Bastide de Ganay",
                      8.9,
                      "Double Room",
                      7.77,
                      24.28,
                      0.191,
                      3.74
                    ],
                    [
                      "Le Pigonnet - Esprit de France",
                      8.5,
                      "Classic Double Room",
                      7.77,
                      24.28,
                      0.191,
                      3.74
                    ],
                    [
                      "Aquabella Hôtel & Spa",
                      8.4,
                      "Comfort Double Room",
                      7.77,
                      24.28,
                      0.191,
                      3.74
                    ],
                    [
                      "Hôtel Le Mozart",
                      8.4,
                      "Double Room with Shower",
                      7.77,
                      24.28,
                      0.191,
                      3.74
                    ],
                    [
                      "Aparthotel Adagio Aix-en-Provence Centre",
                      8.4,
                      "Superior Apartment with Balcony",
                      7.77,
                      24.28,
                      0.191,
                      3.74
                    ],
                    [
                      "Le Mas D'Entremont",
                      8.2,
                      "Double Room",
                      7.77,
                      24.28,
                      0.191,
                      3.74
                    ],
                    [
                      "Renaissance Aix-en-Provence Hotel",
                      8.2,
                      "Superior King Room",
                      7.77,
                      24.28,
                      0.191,
                      3.74
                    ],
                    [
                      "Hôtel Cézanne Boutique-Hôtel",
                      8.1,
                      "Superior Double Room",
                      7.77,
                      24.28,
                      0.191,
                      3.74
                    ],
                    [
                      "Hôtel Birdy by Happyculture",
                      8,
                      "Standard Twin Room",
                      7.77,
                      24.28,
                      0.191,
                      3.74
                    ],
                    [
                      "Golden Tulip Aix en Provence",
                      8,
                      "Superior Queen Room",
                      7.77,
                      24.28,
                      0.191,
                      3.74
                    ],
                    [
                      "thecamp hôtel Premium Lodge- Aix en Provence",
                      8,
                      "Twin Room",
                      7.77,
                      24.28,
                      0.191,
                      3.74
                    ],
                    [
                      "Odalys City Aix en Provence Les Floridianes",
                      7.8,
                      "Superior Studio with Terrace (2 People)",
                      7.77,
                      24.28,
                      0.191,
                      3.74
                    ],
                    [
                      "The Social Hub Toulouse",
                      9.6,
                      "Queen Room",
                      7.56,
                      24.63,
                      0.066,
                      6.8
                    ],
                    [
                      "Boutique Hotel SOCLO",
                      9.6,
                      "Superior Double Room",
                      7.56,
                      24.63,
                      0.066,
                      6.8
                    ],
                    [
                      "Appart Hôtel Clément Ader",
                      8.8,
                      "One-Bedroom and Living Room with a Sofa Bed Apartment ",
                      7.56,
                      24.63,
                      0.066,
                      6.8
                    ],
                    [
                      "Aparthotel Adagio Toulouse Centre Ramblas",
                      8.8,
                      "One-Bedroom Apartment (4 persons)",
                      7.56,
                      24.63,
                      0.066,
                      6.8
                    ],
                    [
                      "DOMITYS LES PAGELLES",
                      8.6,
                      "Standard Apartment",
                      7.56,
                      24.63,
                      0.066,
                      6.8
                    ],
                    [
                      "Villa du Taur",
                      8.6,
                      "Premium Double Room",
                      7.56,
                      24.63,
                      0.066,
                      6.8
                    ],
                    [
                      "La Cour des Consuls Hotel and Spa Toulouse - MGallery",
                      8.4,
                      "Classic King Room",
                      7.56,
                      24.63,
                      0.066,
                      6.8
                    ],
                    [
                      "Pullman Toulouse Centre Ramblas",
                      8.4,
                      "Superior Twin Room",
                      7.56,
                      24.63,
                      0.066,
                      6.8
                    ],
                    [
                      "Odalys City Toulouse Colombélie",
                      8.3,
                      "Standard Studio (2 Adults)",
                      7.56,
                      24.63,
                      0.066,
                      6.8
                    ],
                    [
                      "Mercure Toulouse Centre Wilson Capitole",
                      8.3,
                      "Classic Â Double Room",
                      7.56,
                      24.63,
                      0.066,
                      6.8
                    ],
                    [
                      "Grand Hotel de l'Opera - BW Premier Collection",
                      8.3,
                      "Prestige Double Room",
                      7.56,
                      24.63,
                      0.066,
                      6.8
                    ],
                    [
                      "Courtyard by Marriott Toulouse Airport",
                      8.3,
                      "Deluxe Twin Room",
                      7.56,
                      24.63,
                      0.066,
                      6.8
                    ],
                    [
                      "Hôtel de Brienne",
                      8.2,
                      "Family Room (2 Adults + 1 Child under 12)",
                      7.56,
                      24.63,
                      0.066,
                      6.8
                    ],
                    [
                      "Résidence de Diane - Toulouse",
                      8.2,
                      "Studio double bed",
                      7.56,
                      24.63,
                      0.066,
                      6.8
                    ],
                    [
                      "Novotel Toulouse Centre Wilson",
                      8.2,
                      "Superior Double Room",
                      7.56,
                      24.63,
                      0.066,
                      6.8
                    ],
                    [
                      "Privilège Appart Hôtel Saint Exupéry",
                      8.1,
                      "Studio (2 Adults)",
                      7.56,
                      24.63,
                      0.066,
                      6.8
                    ],
                    [
                      "Best Western Hotel Innes Toulouse Centre",
                      8.1,
                      "Classic Twin Room",
                      7.56,
                      24.63,
                      0.066,
                      6.8
                    ],
                    [
                      "Crowne Plaza Toulouse, an IHG Hotel",
                      8,
                      "Standard Queen Room - Accessible",
                      7.56,
                      24.63,
                      0.066,
                      6.8
                    ],
                    [
                      "Mercure Toulouse Centre Saint-Georges",
                      8,
                      "Standard Room with King Size Bed",
                      7.56,
                      24.63,
                      0.066,
                      6.8
                    ],
                    [
                      "Hotel Palladia",
                      8,
                      "Privilege Double Room",
                      7.56,
                      24.63,
                      0.066,
                      6.8
                    ]
                  ],
                  "hovertemplate": "<b>%{hovertext}</b><br><br>hotel_score=%{customdata[1]}<br>lat=%{lat}<br>lon=%{lon}<br>hotel_name=%{customdata[0]}<br>hotel_desc=%{customdata[2]}<br>weather_score=%{marker.color}<br>avg_temp_day=%{customdata[4]}<br>avg_pop=%{customdata[5]}<br>avg_wind_speed=%{customdata[6]}<extra></extra>",
                  "hovertext": [
                    "Montauban",
                    "Montauban",
                    "Montauban",
                    "Montauban",
                    "Montauban",
                    "Montauban",
                    "Montauban",
                    "Montauban",
                    "Montauban",
                    "Montauban",
                    "Montauban",
                    "Montauban",
                    "Montauban",
                    "Montauban",
                    "Montauban",
                    "Montauban",
                    "Montauban",
                    "Montauban",
                    "Montauban",
                    "Montauban",
                    "Collioure",
                    "Collioure",
                    "Collioure",
                    "Collioure",
                    "Collioure",
                    "Collioure",
                    "Collioure",
                    "Collioure",
                    "Collioure",
                    "Collioure",
                    "Collioure",
                    "Collioure",
                    "Collioure",
                    "Collioure",
                    "Collioure",
                    "Collioure",
                    "Collioure",
                    "Collioure",
                    "Collioure",
                    "Collioure",
                    "Bayonne",
                    "Bayonne",
                    "Bayonne",
                    "Bayonne",
                    "Bayonne",
                    "Bayonne",
                    "Bayonne",
                    "Bayonne",
                    "Bayonne",
                    "Bayonne",
                    "Bayonne",
                    "Bayonne",
                    "Bayonne",
                    "Bayonne",
                    "Bayonne",
                    "Bayonne",
                    "Bayonne",
                    "Bayonne",
                    "Bayonne",
                    "Bayonne",
                    "Aix en Provence",
                    "Aix en Provence",
                    "Aix en Provence",
                    "Aix en Provence",
                    "Aix en Provence",
                    "Aix en Provence",
                    "Aix en Provence",
                    "Aix en Provence",
                    "Aix en Provence",
                    "Aix en Provence",
                    "Aix en Provence",
                    "Aix en Provence",
                    "Aix en Provence",
                    "Aix en Provence",
                    "Aix en Provence",
                    "Aix en Provence",
                    "Aix en Provence",
                    "Aix en Provence",
                    "Aix en Provence",
                    "Aix en Provence",
                    "Toulouse",
                    "Toulouse",
                    "Toulouse",
                    "Toulouse",
                    "Toulouse",
                    "Toulouse",
                    "Toulouse",
                    "Toulouse",
                    "Toulouse",
                    "Toulouse",
                    "Toulouse",
                    "Toulouse",
                    "Toulouse",
                    "Toulouse",
                    "Toulouse",
                    "Toulouse",
                    "Toulouse",
                    "Toulouse",
                    "Toulouse",
                    "Toulouse"
                  ],
                  "lat": [
                    44.01692547,
                    44.04904337,
                    44.01786547,
                    43.979174,
                    44.04659296,
                    44.0149672,
                    44.01646338,
                    44.0175635,
                    43.99404175,
                    44.02487667,
                    44.01036765,
                    44.01703937,
                    44.0250834,
                    44.02054293,
                    44.04776511,
                    44.01791946,
                    44.04011965,
                    44.00649224,
                    43.98081084,
                    44.04666211,
                    42.5271579,
                    42.52307181,
                    42.52534777,
                    42.52616733,
                    42.52876467,
                    42.52417281,
                    42.52613521,
                    42.5238821,
                    42.5275693,
                    42.5231333,
                    42.526744,
                    42.52638625,
                    42.52411449,
                    42.52396992,
                    42.52182,
                    42.52730095,
                    42.52538159,
                    42.52591431,
                    42.52328654,
                    42.52311754,
                    43.482321,
                    43.489894,
                    43.48722,
                    43.492371,
                    43.48982756,
                    43.4890699,
                    43.4909225,
                    43.483921,
                    43.4784244,
                    43.49083593,
                    43.48841135,
                    43.4953443,
                    43.49231191,
                    43.49540574,
                    43.49349109,
                    43.48954193,
                    43.4850262,
                    43.48908262,
                    43.49723939,
                    43.48991068,
                    43.5464421,
                    43.49915642,
                    43.57323483,
                    43.523068,
                    43.53610103,
                    43.529989,
                    43.56879,
                    43.5211698,
                    43.60567,
                    43.51886697,
                    43.5312636,
                    43.52191762,
                    43.52890621,
                    43.55038715,
                    43.52624048,
                    43.52356201,
                    43.48142972,
                    43.52879731,
                    43.496316,
                    43.52133318,
                    43.610053,
                    43.60536,
                    43.60944452,
                    43.60879028,
                    43.626626,
                    43.60765875,
                    43.59940551,
                    43.60854242,
                    43.605809,
                    43.60474354,
                    43.60385788,
                    43.60766167,
                    43.6078787,
                    43.55925979,
                    43.6051281,
                    43.61012827,
                    43.61060878,
                    43.60373649,
                    43.60332861,
                    43.60638325
                  ],
                  "legendgroup": "",
                  "lon": [
                    1.3555235,
                    1.34388352,
                    1.35385925,
                    1.309142,
                    1.30665529,
                    1.3549962,
                    1.35795479,
                    1.3551575,
                    1.37536302,
                    1.3928175,
                    1.35776259,
                    1.35448361,
                    1.3682323,
                    1.34956688,
                    1.35040889,
                    1.35180471,
                    1.3860239,
                    1.38643178,
                    1.33039445,
                    1.39004409,
                    3.0832689,
                    3.08747013,
                    3.09032446,
                    3.08235571,
                    3.07865426,
                    3.08931068,
                    3.08221858,
                    3.0844023,
                    3.0848817,
                    3.0855761,
                    3.0837672,
                    3.08325659,
                    3.08936566,
                    3.07731113,
                    3.0773047,
                    3.08423268,
                    3.08256391,
                    3.0826816,
                    3.0813629,
                    3.0854253,
                    -1.468164,
                    -1.473892,
                    -1.46584,
                    -1.472588,
                    -1.47692958,
                    -1.4755226,
                    -1.4774412,
                    -1.498212,
                    -1.4859969,
                    -1.47321415,
                    -1.47714337,
                    -1.4825118,
                    -1.47660971,
                    -1.47082418,
                    -1.45263344,
                    -1.47812448,
                    -1.47537053,
                    -1.45717809,
                    -1.4677873,
                    -1.47314027,
                    5.4662607,
                    5.43205649,
                    5.41837934,
                    5.457699,
                    5.44878814,
                    5.45096,
                    5.47851,
                    5.49659729,
                    5.4252,
                    5.44161469,
                    5.44507004,
                    5.45787156,
                    5.44086903,
                    5.42617321,
                    5.43820493,
                    5.44593707,
                    5.3656143,
                    5.42567968,
                    5.342152,
                    5.44477701,
                    1.43037,
                    1.438261,
                    1.44867584,
                    1.45354271,
                    1.455989,
                    1.4420481,
                    1.44159153,
                    1.45334423,
                    1.455719,
                    1.44867517,
                    1.44400209,
                    1.37080997,
                    1.43161699,
                    1.36708707,
                    1.44693643,
                    1.45140427,
                    1.44708797,
                    1.44275352,
                    1.44823596,
                    1.40045241
                  ],
                  "marker": {
                    "color": [
                      8.13,
                      8.13,
                      8.13,
                      8.13,
                      8.13,
                      8.13,
                      8.13,
                      8.13,
                      8.13,
                      8.13,
                      8.13,
                      8.13,
                      8.13,
                      8.13,
                      8.13,
                      8.13,
                      8.13,
                      8.13,
                      8.13,
                      8.13,
                      8.09,
                      8.09,
                      8.09,
                      8.09,
                      8.09,
                      8.09,
                      8.09,
                      8.09,
                      8.09,
                      8.09,
                      8.09,
                      8.09,
                      8.09,
                      8.09,
                      8.09,
                      8.09,
                      8.09,
                      8.09,
                      8.09,
                      8.09,
                      7.9,
                      7.9,
                      7.9,
                      7.9,
                      7.9,
                      7.9,
                      7.9,
                      7.9,
                      7.9,
                      7.9,
                      7.9,
                      7.9,
                      7.9,
                      7.9,
                      7.9,
                      7.9,
                      7.9,
                      7.9,
                      7.9,
                      7.9,
                      7.77,
                      7.77,
                      7.77,
                      7.77,
                      7.77,
                      7.77,
                      7.77,
                      7.77,
                      7.77,
                      7.77,
                      7.77,
                      7.77,
                      7.77,
                      7.77,
                      7.77,
                      7.77,
                      7.77,
                      7.77,
                      7.77,
                      7.77,
                      7.56,
                      7.56,
                      7.56,
                      7.56,
                      7.56,
                      7.56,
                      7.56,
                      7.56,
                      7.56,
                      7.56,
                      7.56,
                      7.56,
                      7.56,
                      7.56,
                      7.56,
                      7.56,
                      7.56,
                      7.56,
                      7.56,
                      7.56
                    ],
                    "coloraxis": "coloraxis",
                    "opacity": 0.9,
                    "size": [
                      10,
                      9.6,
                      9.5,
                      9.3,
                      9.1,
                      9,
                      9,
                      9,
                      8.9,
                      8.8,
                      8.6,
                      8.6,
                      8.5,
                      8.2,
                      8.1,
                      8.1,
                      7.8,
                      7.7,
                      7.6,
                      7.4,
                      9.4,
                      9.1,
                      9,
                      8.8,
                      8.8,
                      8.7,
                      8.6,
                      8.5,
                      8.4,
                      8.4,
                      8.2,
                      8.2,
                      8.1,
                      8,
                      8,
                      8,
                      8,
                      7.9,
                      7.9,
                      7.8,
                      9.3,
                      9.2,
                      9.1,
                      9,
                      8.9,
                      8.9,
                      8.9,
                      8.7,
                      8.7,
                      8.6,
                      8.5,
                      8.2,
                      8.1,
                      8.1,
                      7.9,
                      7.9,
                      7.8,
                      7.7,
                      7.6,
                      7.3,
                      9.9,
                      9.7,
                      9.6,
                      9.3,
                      9.1,
                      9.1,
                      9,
                      9,
                      8.9,
                      8.5,
                      8.4,
                      8.4,
                      8.4,
                      8.2,
                      8.2,
                      8.1,
                      8,
                      8,
                      8,
                      7.8,
                      9.6,
                      9.6,
                      8.8,
                      8.8,
                      8.6,
                      8.6,
                      8.4,
                      8.4,
                      8.3,
                      8.3,
                      8.3,
                      8.3,
                      8.2,
                      8.2,
                      8.2,
                      8.1,
                      8.1,
                      8,
                      8,
                      8
                    ],
                    "sizemode": "area",
                    "sizeref": 0.025
                  },
                  "mode": "markers",
                  "name": "",
                  "showlegend": false,
                  "subplot": "mapbox",
                  "type": "scattermapbox"
                }
              ],
              "layout": {
                "coloraxis": {
                  "colorbar": {
                    "title": {
                      "text": "weather_score"
                    }
                  },
                  "colorscale": [
                    [
                      0,
                      "rgb(0,0,131)"
                    ],
                    [
                      0.2,
                      "rgb(0,60,170)"
                    ],
                    [
                      0.4,
                      "rgb(5,255,255)"
                    ],
                    [
                      0.6,
                      "rgb(255,255,0)"
                    ],
                    [
                      0.8,
                      "rgb(250,0,0)"
                    ],
                    [
                      1,
                      "rgb(128,0,0)"
                    ]
                  ]
                },
                "height": 700,
                "hovermode": "closest",
                "legend": {
                  "itemsizing": "constant",
                  "tracegroupgap": 0
                },
                "mapbox": {
                  "center": {
                    "lat": 43.43421372810001,
                    "lon": 1.9679413440000004
                  },
                  "domain": {
                    "x": [
                      0,
                      1
                    ],
                    "y": [
                      0,
                      1
                    ]
                  },
                  "style": "open-street-map",
                  "zoom": 4.6
                },
                "template": {
                  "data": {
                    "bar": [
                      {
                        "error_x": {
                          "color": "#2a3f5f"
                        },
                        "error_y": {
                          "color": "#2a3f5f"
                        },
                        "marker": {
                          "line": {
                            "color": "#E5ECF6",
                            "width": 0.5
                          },
                          "pattern": {
                            "fillmode": "overlay",
                            "size": 10,
                            "solidity": 0.2
                          }
                        },
                        "type": "bar"
                      }
                    ],
                    "barpolar": [
                      {
                        "marker": {
                          "line": {
                            "color": "#E5ECF6",
                            "width": 0.5
                          },
                          "pattern": {
                            "fillmode": "overlay",
                            "size": 10,
                            "solidity": 0.2
                          }
                        },
                        "type": "barpolar"
                      }
                    ],
                    "carpet": [
                      {
                        "aaxis": {
                          "endlinecolor": "#2a3f5f",
                          "gridcolor": "white",
                          "linecolor": "white",
                          "minorgridcolor": "white",
                          "startlinecolor": "#2a3f5f"
                        },
                        "baxis": {
                          "endlinecolor": "#2a3f5f",
                          "gridcolor": "white",
                          "linecolor": "white",
                          "minorgridcolor": "white",
                          "startlinecolor": "#2a3f5f"
                        },
                        "type": "carpet"
                      }
                    ],
                    "choropleth": [
                      {
                        "colorbar": {
                          "outlinewidth": 0,
                          "ticks": ""
                        },
                        "type": "choropleth"
                      }
                    ],
                    "contour": [
                      {
                        "colorbar": {
                          "outlinewidth": 0,
                          "ticks": ""
                        },
                        "colorscale": [
                          [
                            0,
                            "#0d0887"
                          ],
                          [
                            0.1111111111111111,
                            "#46039f"
                          ],
                          [
                            0.2222222222222222,
                            "#7201a8"
                          ],
                          [
                            0.3333333333333333,
                            "#9c179e"
                          ],
                          [
                            0.4444444444444444,
                            "#bd3786"
                          ],
                          [
                            0.5555555555555556,
                            "#d8576b"
                          ],
                          [
                            0.6666666666666666,
                            "#ed7953"
                          ],
                          [
                            0.7777777777777778,
                            "#fb9f3a"
                          ],
                          [
                            0.8888888888888888,
                            "#fdca26"
                          ],
                          [
                            1,
                            "#f0f921"
                          ]
                        ],
                        "type": "contour"
                      }
                    ],
                    "contourcarpet": [
                      {
                        "colorbar": {
                          "outlinewidth": 0,
                          "ticks": ""
                        },
                        "type": "contourcarpet"
                      }
                    ],
                    "heatmap": [
                      {
                        "colorbar": {
                          "outlinewidth": 0,
                          "ticks": ""
                        },
                        "colorscale": [
                          [
                            0,
                            "#0d0887"
                          ],
                          [
                            0.1111111111111111,
                            "#46039f"
                          ],
                          [
                            0.2222222222222222,
                            "#7201a8"
                          ],
                          [
                            0.3333333333333333,
                            "#9c179e"
                          ],
                          [
                            0.4444444444444444,
                            "#bd3786"
                          ],
                          [
                            0.5555555555555556,
                            "#d8576b"
                          ],
                          [
                            0.6666666666666666,
                            "#ed7953"
                          ],
                          [
                            0.7777777777777778,
                            "#fb9f3a"
                          ],
                          [
                            0.8888888888888888,
                            "#fdca26"
                          ],
                          [
                            1,
                            "#f0f921"
                          ]
                        ],
                        "type": "heatmap"
                      }
                    ],
                    "heatmapgl": [
                      {
                        "colorbar": {
                          "outlinewidth": 0,
                          "ticks": ""
                        },
                        "colorscale": [
                          [
                            0,
                            "#0d0887"
                          ],
                          [
                            0.1111111111111111,
                            "#46039f"
                          ],
                          [
                            0.2222222222222222,
                            "#7201a8"
                          ],
                          [
                            0.3333333333333333,
                            "#9c179e"
                          ],
                          [
                            0.4444444444444444,
                            "#bd3786"
                          ],
                          [
                            0.5555555555555556,
                            "#d8576b"
                          ],
                          [
                            0.6666666666666666,
                            "#ed7953"
                          ],
                          [
                            0.7777777777777778,
                            "#fb9f3a"
                          ],
                          [
                            0.8888888888888888,
                            "#fdca26"
                          ],
                          [
                            1,
                            "#f0f921"
                          ]
                        ],
                        "type": "heatmapgl"
                      }
                    ],
                    "histogram": [
                      {
                        "marker": {
                          "pattern": {
                            "fillmode": "overlay",
                            "size": 10,
                            "solidity": 0.2
                          }
                        },
                        "type": "histogram"
                      }
                    ],
                    "histogram2d": [
                      {
                        "colorbar": {
                          "outlinewidth": 0,
                          "ticks": ""
                        },
                        "colorscale": [
                          [
                            0,
                            "#0d0887"
                          ],
                          [
                            0.1111111111111111,
                            "#46039f"
                          ],
                          [
                            0.2222222222222222,
                            "#7201a8"
                          ],
                          [
                            0.3333333333333333,
                            "#9c179e"
                          ],
                          [
                            0.4444444444444444,
                            "#bd3786"
                          ],
                          [
                            0.5555555555555556,
                            "#d8576b"
                          ],
                          [
                            0.6666666666666666,
                            "#ed7953"
                          ],
                          [
                            0.7777777777777778,
                            "#fb9f3a"
                          ],
                          [
                            0.8888888888888888,
                            "#fdca26"
                          ],
                          [
                            1,
                            "#f0f921"
                          ]
                        ],
                        "type": "histogram2d"
                      }
                    ],
                    "histogram2dcontour": [
                      {
                        "colorbar": {
                          "outlinewidth": 0,
                          "ticks": ""
                        },
                        "colorscale": [
                          [
                            0,
                            "#0d0887"
                          ],
                          [
                            0.1111111111111111,
                            "#46039f"
                          ],
                          [
                            0.2222222222222222,
                            "#7201a8"
                          ],
                          [
                            0.3333333333333333,
                            "#9c179e"
                          ],
                          [
                            0.4444444444444444,
                            "#bd3786"
                          ],
                          [
                            0.5555555555555556,
                            "#d8576b"
                          ],
                          [
                            0.6666666666666666,
                            "#ed7953"
                          ],
                          [
                            0.7777777777777778,
                            "#fb9f3a"
                          ],
                          [
                            0.8888888888888888,
                            "#fdca26"
                          ],
                          [
                            1,
                            "#f0f921"
                          ]
                        ],
                        "type": "histogram2dcontour"
                      }
                    ],
                    "mesh3d": [
                      {
                        "colorbar": {
                          "outlinewidth": 0,
                          "ticks": ""
                        },
                        "type": "mesh3d"
                      }
                    ],
                    "parcoords": [
                      {
                        "line": {
                          "colorbar": {
                            "outlinewidth": 0,
                            "ticks": ""
                          }
                        },
                        "type": "parcoords"
                      }
                    ],
                    "pie": [
                      {
                        "automargin": true,
                        "type": "pie"
                      }
                    ],
                    "scatter": [
                      {
                        "marker": {
                          "colorbar": {
                            "outlinewidth": 0,
                            "ticks": ""
                          }
                        },
                        "type": "scatter"
                      }
                    ],
                    "scatter3d": [
                      {
                        "line": {
                          "colorbar": {
                            "outlinewidth": 0,
                            "ticks": ""
                          }
                        },
                        "marker": {
                          "colorbar": {
                            "outlinewidth": 0,
                            "ticks": ""
                          }
                        },
                        "type": "scatter3d"
                      }
                    ],
                    "scattercarpet": [
                      {
                        "marker": {
                          "colorbar": {
                            "outlinewidth": 0,
                            "ticks": ""
                          }
                        },
                        "type": "scattercarpet"
                      }
                    ],
                    "scattergeo": [
                      {
                        "marker": {
                          "colorbar": {
                            "outlinewidth": 0,
                            "ticks": ""
                          }
                        },
                        "type": "scattergeo"
                      }
                    ],
                    "scattergl": [
                      {
                        "marker": {
                          "colorbar": {
                            "outlinewidth": 0,
                            "ticks": ""
                          }
                        },
                        "type": "scattergl"
                      }
                    ],
                    "scattermapbox": [
                      {
                        "marker": {
                          "colorbar": {
                            "outlinewidth": 0,
                            "ticks": ""
                          }
                        },
                        "type": "scattermapbox"
                      }
                    ],
                    "scatterpolar": [
                      {
                        "marker": {
                          "colorbar": {
                            "outlinewidth": 0,
                            "ticks": ""
                          }
                        },
                        "type": "scatterpolar"
                      }
                    ],
                    "scatterpolargl": [
                      {
                        "marker": {
                          "colorbar": {
                            "outlinewidth": 0,
                            "ticks": ""
                          }
                        },
                        "type": "scatterpolargl"
                      }
                    ],
                    "scatterternary": [
                      {
                        "marker": {
                          "colorbar": {
                            "outlinewidth": 0,
                            "ticks": ""
                          }
                        },
                        "type": "scatterternary"
                      }
                    ],
                    "surface": [
                      {
                        "colorbar": {
                          "outlinewidth": 0,
                          "ticks": ""
                        },
                        "colorscale": [
                          [
                            0,
                            "#0d0887"
                          ],
                          [
                            0.1111111111111111,
                            "#46039f"
                          ],
                          [
                            0.2222222222222222,
                            "#7201a8"
                          ],
                          [
                            0.3333333333333333,
                            "#9c179e"
                          ],
                          [
                            0.4444444444444444,
                            "#bd3786"
                          ],
                          [
                            0.5555555555555556,
                            "#d8576b"
                          ],
                          [
                            0.6666666666666666,
                            "#ed7953"
                          ],
                          [
                            0.7777777777777778,
                            "#fb9f3a"
                          ],
                          [
                            0.8888888888888888,
                            "#fdca26"
                          ],
                          [
                            1,
                            "#f0f921"
                          ]
                        ],
                        "type": "surface"
                      }
                    ],
                    "table": [
                      {
                        "cells": {
                          "fill": {
                            "color": "#EBF0F8"
                          },
                          "line": {
                            "color": "white"
                          }
                        },
                        "header": {
                          "fill": {
                            "color": "#C8D4E3"
                          },
                          "line": {
                            "color": "white"
                          }
                        },
                        "type": "table"
                      }
                    ]
                  },
                  "layout": {
                    "annotationdefaults": {
                      "arrowcolor": "#2a3f5f",
                      "arrowhead": 0,
                      "arrowwidth": 1
                    },
                    "autotypenumbers": "strict",
                    "coloraxis": {
                      "colorbar": {
                        "outlinewidth": 0,
                        "ticks": ""
                      }
                    },
                    "colorscale": {
                      "diverging": [
                        [
                          0,
                          "#8e0152"
                        ],
                        [
                          0.1,
                          "#c51b7d"
                        ],
                        [
                          0.2,
                          "#de77ae"
                        ],
                        [
                          0.3,
                          "#f1b6da"
                        ],
                        [
                          0.4,
                          "#fde0ef"
                        ],
                        [
                          0.5,
                          "#f7f7f7"
                        ],
                        [
                          0.6,
                          "#e6f5d0"
                        ],
                        [
                          0.7,
                          "#b8e186"
                        ],
                        [
                          0.8,
                          "#7fbc41"
                        ],
                        [
                          0.9,
                          "#4d9221"
                        ],
                        [
                          1,
                          "#276419"
                        ]
                      ],
                      "sequential": [
                        [
                          0,
                          "#0d0887"
                        ],
                        [
                          0.1111111111111111,
                          "#46039f"
                        ],
                        [
                          0.2222222222222222,
                          "#7201a8"
                        ],
                        [
                          0.3333333333333333,
                          "#9c179e"
                        ],
                        [
                          0.4444444444444444,
                          "#bd3786"
                        ],
                        [
                          0.5555555555555556,
                          "#d8576b"
                        ],
                        [
                          0.6666666666666666,
                          "#ed7953"
                        ],
                        [
                          0.7777777777777778,
                          "#fb9f3a"
                        ],
                        [
                          0.8888888888888888,
                          "#fdca26"
                        ],
                        [
                          1,
                          "#f0f921"
                        ]
                      ],
                      "sequentialminus": [
                        [
                          0,
                          "#0d0887"
                        ],
                        [
                          0.1111111111111111,
                          "#46039f"
                        ],
                        [
                          0.2222222222222222,
                          "#7201a8"
                        ],
                        [
                          0.3333333333333333,
                          "#9c179e"
                        ],
                        [
                          0.4444444444444444,
                          "#bd3786"
                        ],
                        [
                          0.5555555555555556,
                          "#d8576b"
                        ],
                        [
                          0.6666666666666666,
                          "#ed7953"
                        ],
                        [
                          0.7777777777777778,
                          "#fb9f3a"
                        ],
                        [
                          0.8888888888888888,
                          "#fdca26"
                        ],
                        [
                          1,
                          "#f0f921"
                        ]
                      ]
                    },
                    "colorway": [
                      "#636efa",
                      "#EF553B",
                      "#00cc96",
                      "#ab63fa",
                      "#FFA15A",
                      "#19d3f3",
                      "#FF6692",
                      "#B6E880",
                      "#FF97FF",
                      "#FECB52"
                    ],
                    "font": {
                      "color": "#2a3f5f"
                    },
                    "geo": {
                      "bgcolor": "white",
                      "lakecolor": "white",
                      "landcolor": "#E5ECF6",
                      "showlakes": true,
                      "showland": true,
                      "subunitcolor": "white"
                    },
                    "hoverlabel": {
                      "align": "left"
                    },
                    "hovermode": "closest",
                    "mapbox": {
                      "style": "light"
                    },
                    "paper_bgcolor": "white",
                    "plot_bgcolor": "#E5ECF6",
                    "polar": {
                      "angularaxis": {
                        "gridcolor": "white",
                        "linecolor": "white",
                        "ticks": ""
                      },
                      "bgcolor": "#E5ECF6",
                      "radialaxis": {
                        "gridcolor": "white",
                        "linecolor": "white",
                        "ticks": ""
                      }
                    },
                    "scene": {
                      "xaxis": {
                        "backgroundcolor": "#E5ECF6",
                        "gridcolor": "white",
                        "gridwidth": 2,
                        "linecolor": "white",
                        "showbackground": true,
                        "ticks": "",
                        "zerolinecolor": "white"
                      },
                      "yaxis": {
                        "backgroundcolor": "#E5ECF6",
                        "gridcolor": "white",
                        "gridwidth": 2,
                        "linecolor": "white",
                        "showbackground": true,
                        "ticks": "",
                        "zerolinecolor": "white"
                      },
                      "zaxis": {
                        "backgroundcolor": "#E5ECF6",
                        "gridcolor": "white",
                        "gridwidth": 2,
                        "linecolor": "white",
                        "showbackground": true,
                        "ticks": "",
                        "zerolinecolor": "white"
                      }
                    },
                    "shapedefaults": {
                      "line": {
                        "color": "#2a3f5f"
                      }
                    },
                    "ternary": {
                      "aaxis": {
                        "gridcolor": "white",
                        "linecolor": "white",
                        "ticks": ""
                      },
                      "baxis": {
                        "gridcolor": "white",
                        "linecolor": "white",
                        "ticks": ""
                      },
                      "bgcolor": "#E5ECF6",
                      "caxis": {
                        "gridcolor": "white",
                        "linecolor": "white",
                        "ticks": ""
                      }
                    },
                    "title": {
                      "x": 0.05
                    },
                    "xaxis": {
                      "automargin": true,
                      "gridcolor": "white",
                      "linecolor": "white",
                      "ticks": "",
                      "title": {
                        "standoff": 15
                      },
                      "zerolinecolor": "white",
                      "zerolinewidth": 2
                    },
                    "yaxis": {
                      "automargin": true,
                      "gridcolor": "white",
                      "linecolor": "white",
                      "ticks": "",
                      "title": {
                        "standoff": 15
                      },
                      "zerolinecolor": "white",
                      "zerolinewidth": 2
                    }
                  }
                },
                "title": {
                  "text": "Top 5 destinations with hotel and weather information"
                }
              }
            }
          },
          "metadata": {},
          "output_type": "display_data"
        }
      ],
      "source": [
        "#plotting a map with top 20 hotels in top 5 cities\n",
        "fig2 = px.scatter_mapbox(\n",
        "    df2,\n",
        "    lat=\"lat\",\n",
        "    lon=\"lon\",\n",
        "    zoom = 4.6,\n",
        "    color = 'weather_score',\n",
        "    size = 'hotel_score',\n",
        "    title = 'Top 5 destinations with hotel and weather information',\n",
        "    mapbox_style=\"open-street-map\",#\"outdoors\",\n",
        "    color_continuous_scale='jet',\n",
        "    opacity = 0.9,\n",
        "    height = 700,\n",
        "    hover_name = 'city',\n",
        "    hover_data=['hotel_name','hotel_score','hotel_desc','weather_score','avg_temp_day','avg_pop', 'avg_wind_speed']\n",
        "    )\n",
        "\n",
        "fig2.update_layout(hovermode=\"closest\")\n",
        "fig2.write_html(\"..\\\\deliverables\\\\weather_score_top_5_fr_cities_top_20_hotels.html\")\n",
        "fig2.show()"
      ]
    },
    {
      "cell_type": "code",
      "execution_count": 104,
      "metadata": {},
      "outputs": [],
      "source": [
        "#checkpoint 4\n",
        "df2.to_csv(\"..\\\\data\\\\checkpoint4.csv\", index=False)"
      ]
    },
    {
      "cell_type": "markdown",
      "metadata": {},
      "source": [
        "# S3 Bucket 📬"
      ]
    },
    {
      "cell_type": "code",
      "execution_count": 10,
      "metadata": {},
      "outputs": [],
      "source": [
        "# creating AWS session using keys\n",
        "kp0,kp1 = open(\"../../.karpuz\",\"r\").read().split('\\n')  #add your key here\n",
        "session = boto3.Session(\n",
        "            aws_access_key_id=kp0, \n",
        "            aws_secret_access_key= kp1)\n",
        "kp = []\n",
        "\n",
        "s3_resource = session.resource('s3')\n",
        "bucket_name = \"awsbucketkayak\"\n",
        "kayak_bucket = s3_resource.create_bucket(Bucket=bucket_name)\n",
        "                    #ACL = 'public-read')\n",
        "# uploading\n",
        "session = boto3.Session(aws_access_key_id=kp0, aws_secret_access_key=kp1)\n",
        "kp0,kp1 = 0,0\n"
      ]
    },
    {
      "cell_type": "code",
      "execution_count": 15,
      "metadata": {},
      "outputs": [],
      "source": [
        "s3 = session.client(\"s3\")\n",
        "#bucket = s3.create_bucket(Bucket=bucket_name)\n",
        "s3.upload_file(Filename=\"..\\\\deliverables\\\\top20hotelstop5cities.csv\",\n",
        "                Bucket=bucket_name,\n",
        "                Key='top20hotelstop5cities.csv')"
      ]
    },
    {
      "cell_type": "markdown",
      "metadata": {},
      "source": [
        "OK. Uploaded!"
      ]
    },
    {
      "cell_type": "code",
      "execution_count": 7,
      "metadata": {},
      "outputs": [
        {
          "data": {
            "text/plain": [
              "(100, 38)"
            ]
          },
          "execution_count": 7,
          "metadata": {},
          "output_type": "execute_result"
        }
      ],
      "source": [
        "# testing if data can be downloaded\n",
        "fname= \"https://awsbucketkayak.s3.amazonaws.com/top20hotelstop5cities.csv\"\n",
        "df_aws_booking = pd.read_csv(fname)\n",
        "df_aws_booking.shape"
      ]
    },
    {
      "cell_type": "code",
      "execution_count": 8,
      "metadata": {},
      "outputs": [
        {
          "data": {
            "text/html": [
              "<div>\n",
              "<style scoped>\n",
              "    .dataframe tbody tr th:only-of-type {\n",
              "        vertical-align: middle;\n",
              "    }\n",
              "\n",
              "    .dataframe tbody tr th {\n",
              "        vertical-align: top;\n",
              "    }\n",
              "\n",
              "    .dataframe thead th {\n",
              "        text-align: right;\n",
              "    }\n",
              "</style>\n",
              "<table border=\"1\" class=\"dataframe\">\n",
              "  <thead>\n",
              "    <tr style=\"text-align: right;\">\n",
              "      <th></th>\n",
              "      <th>hotel_city</th>\n",
              "      <th>hotel_name</th>\n",
              "      <th>hotel_score</th>\n",
              "      <th>hotel_desc</th>\n",
              "      <th>hotel_url</th>\n",
              "      <th>lat</th>\n",
              "      <th>lon</th>\n",
              "      <th>city</th>\n",
              "      <th>lat_city</th>\n",
              "      <th>lon_city</th>\n",
              "      <th>...</th>\n",
              "      <th>d0_temp</th>\n",
              "      <th>d1_temp</th>\n",
              "      <th>d2_temp</th>\n",
              "      <th>d3_temp</th>\n",
              "      <th>d4_temp</th>\n",
              "      <th>d5_temp</th>\n",
              "      <th>d6_temp</th>\n",
              "      <th>d7_temp</th>\n",
              "      <th>avg_temp_day</th>\n",
              "      <th>weather_score</th>\n",
              "    </tr>\n",
              "  </thead>\n",
              "  <tbody>\n",
              "    <tr>\n",
              "      <th>0</th>\n",
              "      <td>Montauban</td>\n",
              "      <td>L'Escale des Libellules by BNB Conciergerie Mtban</td>\n",
              "      <td>10.0</td>\n",
              "      <td>Apartment</td>\n",
              "      <td>https://www.booking.com/hotel/fr/escale-des-li...</td>\n",
              "      <td>44.016925</td>\n",
              "      <td>1.355524</td>\n",
              "      <td>Montauban</td>\n",
              "      <td>44.017584</td>\n",
              "      <td>1.354999</td>\n",
              "      <td>...</td>\n",
              "      <td>24.53</td>\n",
              "      <td>26.28</td>\n",
              "      <td>22.58</td>\n",
              "      <td>24.54</td>\n",
              "      <td>25.83</td>\n",
              "      <td>27.04</td>\n",
              "      <td>26.61</td>\n",
              "      <td>24.49</td>\n",
              "      <td>25.24</td>\n",
              "      <td>8.13</td>\n",
              "    </tr>\n",
              "    <tr>\n",
              "      <th>1</th>\n",
              "      <td>Montauban</td>\n",
              "      <td>Manoir de la Gravette Maison d'Hôtes</td>\n",
              "      <td>9.6</td>\n",
              "      <td>Deluxe Double Room</td>\n",
              "      <td>https://www.booking.com/hotel/fr/le-manoir-de-...</td>\n",
              "      <td>44.049043</td>\n",
              "      <td>1.343884</td>\n",
              "      <td>Montauban</td>\n",
              "      <td>44.017584</td>\n",
              "      <td>1.354999</td>\n",
              "      <td>...</td>\n",
              "      <td>24.53</td>\n",
              "      <td>26.28</td>\n",
              "      <td>22.58</td>\n",
              "      <td>24.54</td>\n",
              "      <td>25.83</td>\n",
              "      <td>27.04</td>\n",
              "      <td>26.61</td>\n",
              "      <td>24.49</td>\n",
              "      <td>25.24</td>\n",
              "      <td>8.13</td>\n",
              "    </tr>\n",
              "    <tr>\n",
              "      <th>2</th>\n",
              "      <td>Montauban</td>\n",
              "      <td>room five MONTAUBAN</td>\n",
              "      <td>9.5</td>\n",
              "      <td>One-Bedroom Apartment</td>\n",
              "      <td>https://www.booking.com/hotel/fr/room-five-mon...</td>\n",
              "      <td>44.017865</td>\n",
              "      <td>1.353859</td>\n",
              "      <td>Montauban</td>\n",
              "      <td>44.017584</td>\n",
              "      <td>1.354999</td>\n",
              "      <td>...</td>\n",
              "      <td>24.53</td>\n",
              "      <td>26.28</td>\n",
              "      <td>22.58</td>\n",
              "      <td>24.54</td>\n",
              "      <td>25.83</td>\n",
              "      <td>27.04</td>\n",
              "      <td>26.61</td>\n",
              "      <td>24.49</td>\n",
              "      <td>25.24</td>\n",
              "      <td>8.13</td>\n",
              "    </tr>\n",
              "    <tr>\n",
              "      <th>3</th>\n",
              "      <td>Montauban</td>\n",
              "      <td>Castel Bois Marie</td>\n",
              "      <td>9.3</td>\n",
              "      <td>Deluxe King Suite</td>\n",
              "      <td>https://www.booking.com/hotel/fr/castel-bois-m...</td>\n",
              "      <td>43.979174</td>\n",
              "      <td>1.309142</td>\n",
              "      <td>Montauban</td>\n",
              "      <td>44.017584</td>\n",
              "      <td>1.354999</td>\n",
              "      <td>...</td>\n",
              "      <td>24.53</td>\n",
              "      <td>26.28</td>\n",
              "      <td>22.58</td>\n",
              "      <td>24.54</td>\n",
              "      <td>25.83</td>\n",
              "      <td>27.04</td>\n",
              "      <td>26.61</td>\n",
              "      <td>24.49</td>\n",
              "      <td>25.24</td>\n",
              "      <td>8.13</td>\n",
              "    </tr>\n",
              "    <tr>\n",
              "      <th>4</th>\n",
              "      <td>Montauban</td>\n",
              "      <td>Les Chalets du Manoir</td>\n",
              "      <td>9.1</td>\n",
              "      <td>Double Room</td>\n",
              "      <td>https://www.booking.com/hotel/fr/les-chalets-d...</td>\n",
              "      <td>44.046593</td>\n",
              "      <td>1.306655</td>\n",
              "      <td>Montauban</td>\n",
              "      <td>44.017584</td>\n",
              "      <td>1.354999</td>\n",
              "      <td>...</td>\n",
              "      <td>24.53</td>\n",
              "      <td>26.28</td>\n",
              "      <td>22.58</td>\n",
              "      <td>24.54</td>\n",
              "      <td>25.83</td>\n",
              "      <td>27.04</td>\n",
              "      <td>26.61</td>\n",
              "      <td>24.49</td>\n",
              "      <td>25.24</td>\n",
              "      <td>8.13</td>\n",
              "    </tr>\n",
              "  </tbody>\n",
              "</table>\n",
              "<p>5 rows × 38 columns</p>\n",
              "</div>"
            ],
            "text/plain": [
              "  hotel_city                                         hotel_name  hotel_score  \\\n",
              "0  Montauban  L'Escale des Libellules by BNB Conciergerie Mtban         10.0   \n",
              "1  Montauban               Manoir de la Gravette Maison d'Hôtes          9.6   \n",
              "2  Montauban                                room five MONTAUBAN          9.5   \n",
              "3  Montauban                                  Castel Bois Marie          9.3   \n",
              "4  Montauban                              Les Chalets du Manoir          9.1   \n",
              "\n",
              "              hotel_desc                                          hotel_url  \\\n",
              "0              Apartment  https://www.booking.com/hotel/fr/escale-des-li...   \n",
              "1     Deluxe Double Room  https://www.booking.com/hotel/fr/le-manoir-de-...   \n",
              "2  One-Bedroom Apartment  https://www.booking.com/hotel/fr/room-five-mon...   \n",
              "3      Deluxe King Suite  https://www.booking.com/hotel/fr/castel-bois-m...   \n",
              "4            Double Room  https://www.booking.com/hotel/fr/les-chalets-d...   \n",
              "\n",
              "         lat       lon       city   lat_city  lon_city  ...  d0_temp  d1_temp  \\\n",
              "0  44.016925  1.355524  Montauban  44.017584  1.354999  ...    24.53    26.28   \n",
              "1  44.049043  1.343884  Montauban  44.017584  1.354999  ...    24.53    26.28   \n",
              "2  44.017865  1.353859  Montauban  44.017584  1.354999  ...    24.53    26.28   \n",
              "3  43.979174  1.309142  Montauban  44.017584  1.354999  ...    24.53    26.28   \n",
              "4  44.046593  1.306655  Montauban  44.017584  1.354999  ...    24.53    26.28   \n",
              "\n",
              "   d2_temp  d3_temp  d4_temp  d5_temp  d6_temp  d7_temp  avg_temp_day  \\\n",
              "0    22.58    24.54    25.83    27.04    26.61    24.49         25.24   \n",
              "1    22.58    24.54    25.83    27.04    26.61    24.49         25.24   \n",
              "2    22.58    24.54    25.83    27.04    26.61    24.49         25.24   \n",
              "3    22.58    24.54    25.83    27.04    26.61    24.49         25.24   \n",
              "4    22.58    24.54    25.83    27.04    26.61    24.49         25.24   \n",
              "\n",
              "   weather_score  \n",
              "0           8.13  \n",
              "1           8.13  \n",
              "2           8.13  \n",
              "3           8.13  \n",
              "4           8.13  \n",
              "\n",
              "[5 rows x 38 columns]"
            ]
          },
          "execution_count": 8,
          "metadata": {},
          "output_type": "execute_result"
        }
      ],
      "source": [
        "df_aws_booking.head()"
      ]
    },
    {
      "cell_type": "markdown",
      "metadata": {},
      "source": [
        "**OK. It works!**"
      ]
    },
    {
      "cell_type": "markdown",
      "metadata": {},
      "source": [
        "# RDS Database"
      ]
    },
    {
      "cell_type": "code",
      "execution_count": 24,
      "metadata": {},
      "outputs": [],
      "source": [
        "from sqlalchemy import create_engine\n",
        "from sqlalchemy.orm import sessionmaker\n",
        "import psycopg2\n",
        "\n",
        "import pandas as pd"
      ]
    },
    {
      "cell_type": "code",
      "execution_count": 31,
      "metadata": {},
      "outputs": [
        {
          "data": {
            "text/plain": [
              "<sqlalchemy.orm.session.Session at 0x19eec5f8d90>"
            ]
          },
          "execution_count": 31,
          "metadata": {},
          "output_type": "execute_result"
        }
      ],
      "source": [
        "end_point,un, uk= open(\"../../.kiraz\",\"r\").read().split('\\n')  #add your key here\n",
        "engine = create_engine(\n",
        "    f'postgresql+psycopg2://{un}:{uk}@{end_point}', \n",
        "    echo = True)\n",
        "\n",
        "Session = sessionmaker(bind = engine)\n",
        "session = Session()\n",
        "session"
      ]
    },
    {
      "cell_type": "code",
      "execution_count": 32,
      "metadata": {},
      "outputs": [
        {
          "name": "stdout",
          "output_type": "stream",
          "text": [
            "2022-10-23 21:05:28,828 INFO sqlalchemy.engine.Engine select pg_catalog.version()\n",
            "2022-10-23 21:05:28,853 INFO sqlalchemy.engine.Engine [raw sql] {}\n",
            "2022-10-23 21:05:29,087 INFO sqlalchemy.engine.Engine select current_schema()\n",
            "2022-10-23 21:05:29,088 INFO sqlalchemy.engine.Engine [raw sql] {}\n",
            "2022-10-23 21:05:29,366 INFO sqlalchemy.engine.Engine show standard_conforming_strings\n",
            "2022-10-23 21:05:29,367 INFO sqlalchemy.engine.Engine [raw sql] {}\n",
            "2022-10-23 21:05:29,609 INFO sqlalchemy.engine.Engine select relname from pg_class c join pg_namespace n on n.oid=c.relnamespace where pg_catalog.pg_table_is_visible(c.oid) and relname=%(name)s\n",
            "2022-10-23 21:05:29,611 INFO sqlalchemy.engine.Engine [generated in 0.00130s] {'name': 'top20hotelstop5cities'}\n",
            "2022-10-23 21:05:30,092 INFO sqlalchemy.engine.Engine BEGIN (implicit)\n",
            "2022-10-23 21:05:30,097 INFO sqlalchemy.engine.Engine \n",
            "CREATE TABLE top20hotelstop5cities (\n",
            "\tindex BIGINT, \n",
            "\thotel_city TEXT, \n",
            "\thotel_name TEXT, \n",
            "\thotel_score FLOAT(53), \n",
            "\thotel_desc TEXT, \n",
            "\thotel_url TEXT, \n",
            "\tlat FLOAT(53), \n",
            "\tlon FLOAT(53), \n",
            "\tcity TEXT, \n",
            "\tlat_city FLOAT(53), \n",
            "\tlon_city FLOAT(53), \n",
            "\td0_wind_speed FLOAT(53), \n",
            "\td1_wind_speed FLOAT(53), \n",
            "\td2_wind_speed FLOAT(53), \n",
            "\td3_wind_speed FLOAT(53), \n",
            "\td4_wind_speed FLOAT(53), \n",
            "\td5_wind_speed FLOAT(53), \n",
            "\td6_wind_speed FLOAT(53), \n",
            "\td7_wind_speed FLOAT(53), \n",
            "\tavg_wind_speed FLOAT(53), \n",
            "\td0_pop FLOAT(53), \n",
            "\td1_pop FLOAT(53), \n",
            "\td2_pop FLOAT(53), \n",
            "\td3_pop FLOAT(53), \n",
            "\td4_pop FLOAT(53), \n",
            "\td5_pop FLOAT(53), \n",
            "\td6_pop FLOAT(53), \n",
            "\td7_pop FLOAT(53), \n",
            "\tavg_pop FLOAT(53), \n",
            "\td0_temp FLOAT(53), \n",
            "\td1_temp FLOAT(53), \n",
            "\td2_temp FLOAT(53), \n",
            "\td3_temp FLOAT(53), \n",
            "\td4_temp FLOAT(53), \n",
            "\td5_temp FLOAT(53), \n",
            "\td6_temp FLOAT(53), \n",
            "\td7_temp FLOAT(53), \n",
            "\tavg_temp_day FLOAT(53), \n",
            "\tweather_score FLOAT(53)\n",
            ")\n",
            "\n",
            "\n",
            "2022-10-23 21:05:30,102 INFO sqlalchemy.engine.Engine [no key 0.00472s] {}\n",
            "2022-10-23 21:05:30,412 INFO sqlalchemy.engine.Engine CREATE INDEX ix_top20hotelstop5cities_index ON top20hotelstop5cities (index)\n",
            "2022-10-23 21:05:30,413 INFO sqlalchemy.engine.Engine [no key 0.00123s] {}\n",
            "2022-10-23 21:05:30,543 INFO sqlalchemy.engine.Engine COMMIT\n",
            "2022-10-23 21:05:30,751 INFO sqlalchemy.engine.Engine BEGIN (implicit)\n",
            "2022-10-23 21:05:30,761 INFO sqlalchemy.engine.Engine INSERT INTO top20hotelstop5cities (index, hotel_city, hotel_name, hotel_score, hotel_desc, hotel_url, lat, lon, city, lat_city, lon_city, d0_wind_speed, d1_wind_speed, d2_wind_speed, d3_wind_speed, d4_wind_speed, d5_wind_speed, d6_wind_speed, d7_wind_speed, avg_wind_speed, d0_pop, d1_pop, d2_pop, d3_pop, d4_pop, d5_pop, d6_pop, d7_pop, avg_pop, d0_temp, d1_temp, d2_temp, d3_temp, d4_temp, d5_temp, d6_temp, d7_temp, avg_temp_day, weather_score) VALUES (%(index)s, %(hotel_city)s, %(hotel_name)s, %(hotel_score)s, %(hotel_desc)s, %(hotel_url)s, %(lat)s, %(lon)s, %(city)s, %(lat_city)s, %(lon_city)s, %(d0_wind_speed)s, %(d1_wind_speed)s, %(d2_wind_speed)s, %(d3_wind_speed)s, %(d4_wind_speed)s, %(d5_wind_speed)s, %(d6_wind_speed)s, %(d7_wind_speed)s, %(avg_wind_speed)s, %(d0_pop)s, %(d1_pop)s, %(d2_pop)s, %(d3_pop)s, %(d4_pop)s, %(d5_pop)s, %(d6_pop)s, %(d7_pop)s, %(avg_pop)s, %(d0_temp)s, %(d1_temp)s, %(d2_temp)s, %(d3_temp)s, %(d4_temp)s, %(d5_temp)s, %(d6_temp)s, %(d7_temp)s, %(avg_temp_day)s, %(weather_score)s)\n",
            "2022-10-23 21:05:30,763 INFO sqlalchemy.engine.Engine [generated in 0.00661s] ({'index': 0, 'hotel_city': 'Montauban', 'hotel_name': \"L'Escale des Libellules by BNB Conciergerie Mtban\", 'hotel_score': 10.0, 'hotel_desc': 'Apartment', 'hotel_url': 'https://www.booking.com/hotel/fr/escale-des-libellules-by-bnb-conciergerie-mtban.en-gb.html', 'lat': 44.01692547, 'lon': 1.3555235, 'city': 'Montauban', 'lat_city': 44.0175835, 'lon_city': 1.3549991, 'd0_wind_speed': 5.71, 'd1_wind_speed': 8.15, 'd2_wind_speed': 3.32, 'd3_wind_speed': 5.93, 'd4_wind_speed': 5.36, 'd5_wind_speed': 6.11, 'd6_wind_speed': 7.66, 'd7_wind_speed': 3.61, 'avg_wind_speed': 5.73, 'd0_pop': 0.29, 'd1_pop': 0.13, 'd2_pop': 0.02, 'd3_pop': 0.0, 'd4_pop': 0.0, 'd5_pop': 0.0, 'd6_pop': 0.0, 'd7_pop': 0.29, 'avg_pop': 0.091, 'd0_temp': 24.53, 'd1_temp': 26.28, 'd2_temp': 22.58, 'd3_temp': 24.54, 'd4_temp': 25.83, 'd5_temp': 27.04, 'd6_temp': 26.61, 'd7_temp': 24.49, 'avg_temp_day': 25.24, 'weather_score': 8.13}, {'index': 1, 'hotel_city': 'Montauban', 'hotel_name': \"Manoir de la Gravette Maison d'Hôtes\", 'hotel_score': 9.6, 'hotel_desc': 'Deluxe Double Room', 'hotel_url': 'https://www.booking.com/hotel/fr/le-manoir-de-la-gravette.en-gb.html', 'lat': 44.04904337, 'lon': 1.34388352, 'city': 'Montauban', 'lat_city': 44.0175835, 'lon_city': 1.3549991, 'd0_wind_speed': 5.71, 'd1_wind_speed': 8.15, 'd2_wind_speed': 3.32, 'd3_wind_speed': 5.93, 'd4_wind_speed': 5.36, 'd5_wind_speed': 6.11, 'd6_wind_speed': 7.66, 'd7_wind_speed': 3.61, 'avg_wind_speed': 5.73, 'd0_pop': 0.29, 'd1_pop': 0.13, 'd2_pop': 0.02, 'd3_pop': 0.0, 'd4_pop': 0.0, 'd5_pop': 0.0, 'd6_pop': 0.0, 'd7_pop': 0.29, 'avg_pop': 0.091, 'd0_temp': 24.53, 'd1_temp': 26.28, 'd2_temp': 22.58, 'd3_temp': 24.54, 'd4_temp': 25.83, 'd5_temp': 27.04, 'd6_temp': 26.61, 'd7_temp': 24.49, 'avg_temp_day': 25.24, 'weather_score': 8.13}, {'index': 2, 'hotel_city': 'Montauban', 'hotel_name': 'room five MONTAUBAN', 'hotel_score': 9.5, 'hotel_desc': 'One-Bedroom Apartment', 'hotel_url': 'https://www.booking.com/hotel/fr/room-five-montauban.en-gb.html', 'lat': 44.01786547, 'lon': 1.35385925, 'city': 'Montauban', 'lat_city': 44.0175835, 'lon_city': 1.3549991, 'd0_wind_speed': 5.71, 'd1_wind_speed': 8.15, 'd2_wind_speed': 3.32, 'd3_wind_speed': 5.93, 'd4_wind_speed': 5.36, 'd5_wind_speed': 6.11, 'd6_wind_speed': 7.66, 'd7_wind_speed': 3.61, 'avg_wind_speed': 5.73, 'd0_pop': 0.29, 'd1_pop': 0.13, 'd2_pop': 0.02, 'd3_pop': 0.0, 'd4_pop': 0.0, 'd5_pop': 0.0, 'd6_pop': 0.0, 'd7_pop': 0.29, 'avg_pop': 0.091, 'd0_temp': 24.53, 'd1_temp': 26.28, 'd2_temp': 22.58, 'd3_temp': 24.54, 'd4_temp': 25.83, 'd5_temp': 27.04, 'd6_temp': 26.61, 'd7_temp': 24.49, 'avg_temp_day': 25.24, 'weather_score': 8.13}, {'index': 3, 'hotel_city': 'Montauban', 'hotel_name': 'Castel Bois Marie', 'hotel_score': 9.3, 'hotel_desc': 'Deluxe King Suite', 'hotel_url': 'https://www.booking.com/hotel/fr/castel-bois-marie.en-gb.html', 'lat': 43.979174, 'lon': 1.309142, 'city': 'Montauban', 'lat_city': 44.0175835, 'lon_city': 1.3549991, 'd0_wind_speed': 5.71, 'd1_wind_speed': 8.15, 'd2_wind_speed': 3.32, 'd3_wind_speed': 5.93, 'd4_wind_speed': 5.36, 'd5_wind_speed': 6.11, 'd6_wind_speed': 7.66, 'd7_wind_speed': 3.61, 'avg_wind_speed': 5.73, 'd0_pop': 0.29, 'd1_pop': 0.13, 'd2_pop': 0.02, 'd3_pop': 0.0, 'd4_pop': 0.0, 'd5_pop': 0.0, 'd6_pop': 0.0, 'd7_pop': 0.29, 'avg_pop': 0.091, 'd0_temp': 24.53, 'd1_temp': 26.28, 'd2_temp': 22.58, 'd3_temp': 24.54, 'd4_temp': 25.83, 'd5_temp': 27.04, 'd6_temp': 26.61, 'd7_temp': 24.49, 'avg_temp_day': 25.24, 'weather_score': 8.13}, {'index': 4, 'hotel_city': 'Montauban', 'hotel_name': 'Les Chalets du Manoir', 'hotel_score': 9.1, 'hotel_desc': 'Double Room', 'hotel_url': 'https://www.booking.com/hotel/fr/les-chalets-du-manoir.en-gb.html', 'lat': 44.04659296, 'lon': 1.30665529, 'city': 'Montauban', 'lat_city': 44.0175835, 'lon_city': 1.3549991, 'd0_wind_speed': 5.71, 'd1_wind_speed': 8.15, 'd2_wind_speed': 3.32, 'd3_wind_speed': 5.93, 'd4_wind_speed': 5.36, 'd5_wind_speed': 6.11, 'd6_wind_speed': 7.66, 'd7_wind_speed': 3.61, 'avg_wind_speed': 5.73, 'd0_pop': 0.29, 'd1_pop': 0.13, 'd2_pop': 0.02, 'd3_pop': 0.0, 'd4_pop': 0.0, 'd5_pop': 0.0, 'd6_pop': 0.0, 'd7_pop': 0.29, 'avg_pop': 0.091, 'd0_temp': 24.53, 'd1_temp': 26.28, 'd2_temp': 22.58, 'd3_temp': 24.54, 'd4_temp': 25.83, 'd5_temp': 27.04, 'd6_temp': 26.61, 'd7_temp': 24.49, 'avg_temp_day': 25.24, 'weather_score': 8.13}, {'index': 5, 'hotel_city': 'Montauban', 'hotel_name': 'In Town by BNB Conciergerie Montauban', 'hotel_score': 9.0, 'hotel_desc': 'Studio Apartment', 'hotel_url': 'https://www.booking.com/hotel/fr/le-in-town-by-bnb-conciergerie-montauban.en-gb.html', 'lat': 44.0149672, 'lon': 1.3549962, 'city': 'Montauban', 'lat_city': 44.0175835, 'lon_city': 1.3549991, 'd0_wind_speed': 5.71, 'd1_wind_speed': 8.15, 'd2_wind_speed': 3.32, 'd3_wind_speed': 5.93, 'd4_wind_speed': 5.36, 'd5_wind_speed': 6.11, 'd6_wind_speed': 7.66, 'd7_wind_speed': 3.61, 'avg_wind_speed': 5.73, 'd0_pop': 0.29, 'd1_pop': 0.13, 'd2_pop': 0.02, 'd3_pop': 0.0, 'd4_pop': 0.0, 'd5_pop': 0.0, 'd6_pop': 0.0, 'd7_pop': 0.29, 'avg_pop': 0.091, 'd0_temp': 24.53, 'd1_temp': 26.28, 'd2_temp': 22.58, 'd3_temp': 24.54, 'd4_temp': 25.83, 'd5_temp': 27.04, 'd6_temp': 26.61, 'd7_temp': 24.49, 'avg_temp_day': 25.24, 'weather_score': 8.13}, {'index': 6, 'hotel_city': 'Montauban', 'hotel_name': 'Les Loges de Montauban', 'hotel_score': 9.0, 'hotel_desc': 'One-Bedroom Apartment', 'hotel_url': 'https://www.booking.com/hotel/fr/les-loges-de-montauban.en-gb.html', 'lat': 44.01646338, 'lon': 1.35795479, 'city': 'Montauban', 'lat_city': 44.0175835, 'lon_city': 1.3549991, 'd0_wind_speed': 5.71, 'd1_wind_speed': 8.15, 'd2_wind_speed': 3.32, 'd3_wind_speed': 5.93, 'd4_wind_speed': 5.36, 'd5_wind_speed': 6.11, 'd6_wind_speed': 7.66, 'd7_wind_speed': 3.61, 'avg_wind_speed': 5.73, 'd0_pop': 0.29, 'd1_pop': 0.13, 'd2_pop': 0.02, 'd3_pop': 0.0, 'd4_pop': 0.0, 'd5_pop': 0.0, 'd6_pop': 0.0, 'd7_pop': 0.29, 'avg_pop': 0.091, 'd0_temp': 24.53, 'd1_temp': 26.28, 'd2_temp': 22.58, 'd3_temp': 24.54, 'd4_temp': 25.83, 'd5_temp': 27.04, 'd6_temp': 26.61, 'd7_temp': 24.49, 'avg_temp_day': 25.24, 'weather_score': 8.13}, {'index': 7, 'hotel_city': 'Montauban', 'hotel_name': 'En toute intimité dans le centre historique', 'hotel_score': 9.0, 'hotel_desc': 'One-Bedroom Apartment', 'hotel_url': 'https://www.booking.com/hotel/fr/en-toute-intimite-dans-le-centre-historique.en-gb.html', 'lat': 44.0175635, 'lon': 1.3551575, 'city': 'Montauban', 'lat_city': 44.0175835, 'lon_city': 1.3549991, 'd0_wind_speed': 5.71, 'd1_wind_speed': 8.15, 'd2_wind_speed': 3.32, 'd3_wind_speed': 5.93, 'd4_wind_speed': 5.36, 'd5_wind_speed': 6.11, 'd6_wind_speed': 7.66, 'd7_wind_speed': 3.61, 'avg_wind_speed': 5.73, 'd0_pop': 0.29, 'd1_pop': 0.13, 'd2_pop': 0.02, 'd3_pop': 0.0, 'd4_pop': 0.0, 'd5_pop': 0.0, 'd6_pop': 0.0, 'd7_pop': 0.29, 'avg_pop': 0.091, 'd0_temp': 24.53, 'd1_temp': 26.28, 'd2_temp': 22.58, 'd3_temp': 24.54, 'd4_temp': 25.83, 'd5_temp': 27.04, 'd6_temp': 26.61, 'd7_temp': 24.49, 'avg_temp_day': 25.24, 'weather_score': 8.13}  ... displaying 10 of 100 total bound parameter sets ...  {'index': 98, 'hotel_city': 'Toulouse', 'hotel_name': 'Mercure Toulouse Centre Saint-Georges', 'hotel_score': 8.0, 'hotel_desc': 'Standard Room with King Size Bed', 'hotel_url': 'https://www.booking.com/hotel/fr/mercure-toulouse-saint-georges.en-gb.html', 'lat': 43.60332861, 'lon': 1.44823596, 'city': 'Toulouse', 'lat_city': 43.6044622, 'lon_city': 1.4442469, 'd0_wind_speed': 6.0, 'd1_wind_speed': 8.51, 'd2_wind_speed': 3.34, 'd3_wind_speed': 6.46, 'd4_wind_speed': 7.37, 'd5_wind_speed': 8.28, 'd6_wind_speed': 9.68, 'd7_wind_speed': 4.78, 'avg_wind_speed': 6.8, 'd0_pop': 0.37, 'd1_pop': 0.1, 'd2_pop': 0.0, 'd3_pop': 0.0, 'd4_pop': 0.0, 'd5_pop': 0.0, 'd6_pop': 0.0, 'd7_pop': 0.06, 'avg_pop': 0.066, 'd0_temp': 23.99, 'd1_temp': 26.61, 'd2_temp': 22.42, 'd3_temp': 23.32, 'd4_temp': 25.24, 'd5_temp': 25.65, 'd6_temp': 25.93, 'd7_temp': 23.91, 'avg_temp_day': 24.63, 'weather_score': 7.56}, {'index': 99, 'hotel_city': 'Toulouse', 'hotel_name': 'Hotel Palladia', 'hotel_score': 8.0, 'hotel_desc': 'Privilege Double Room', 'hotel_url': 'https://www.booking.com/hotel/fr/palladia.en-gb.html', 'lat': 43.60638325, 'lon': 1.40045241, 'city': 'Toulouse', 'lat_city': 43.6044622, 'lon_city': 1.4442469, 'd0_wind_speed': 6.0, 'd1_wind_speed': 8.51, 'd2_wind_speed': 3.34, 'd3_wind_speed': 6.46, 'd4_wind_speed': 7.37, 'd5_wind_speed': 8.28, 'd6_wind_speed': 9.68, 'd7_wind_speed': 4.78, 'avg_wind_speed': 6.8, 'd0_pop': 0.37, 'd1_pop': 0.1, 'd2_pop': 0.0, 'd3_pop': 0.0, 'd4_pop': 0.0, 'd5_pop': 0.0, 'd6_pop': 0.0, 'd7_pop': 0.06, 'avg_pop': 0.066, 'd0_temp': 23.99, 'd1_temp': 26.61, 'd2_temp': 22.42, 'd3_temp': 23.32, 'd4_temp': 25.24, 'd5_temp': 25.65, 'd6_temp': 25.93, 'd7_temp': 23.91, 'avg_temp_day': 24.63, 'weather_score': 7.56})\n",
            "2022-10-23 21:05:31,289 INFO sqlalchemy.engine.Engine COMMIT\n"
          ]
        },
        {
          "data": {
            "text/plain": [
              "100"
            ]
          },
          "execution_count": 32,
          "metadata": {},
          "output_type": "execute_result"
        }
      ],
      "source": [
        "# retreiving csv from s3\n",
        "fname= \"https://awsbucketkayak.s3.amazonaws.com/top20hotelstop5cities.csv\"\n",
        "df_aws_booking = pd.read_csv(fname)\n",
        "\n",
        "# pushing df s3 to sql db\n",
        "df_aws_booking.to_sql(\"top20hotelstop5cities\", engine)"
      ]
    },
    {
      "cell_type": "markdown",
      "metadata": {},
      "source": [
        "**Sucess**\n",
        "\n",
        "*Please note that access to RDS is made only for my local ID*"
      ]
    },
    {
      "cell_type": "code",
      "execution_count": 35,
      "metadata": {},
      "outputs": [
        {
          "data": {
            "text/html": [
              "<div>\n",
              "<style scoped>\n",
              "    .dataframe tbody tr th:only-of-type {\n",
              "        vertical-align: middle;\n",
              "    }\n",
              "\n",
              "    .dataframe tbody tr th {\n",
              "        vertical-align: top;\n",
              "    }\n",
              "\n",
              "    .dataframe thead th {\n",
              "        text-align: right;\n",
              "    }\n",
              "</style>\n",
              "<table border=\"1\" class=\"dataframe\">\n",
              "  <thead>\n",
              "    <tr style=\"text-align: right;\">\n",
              "      <th></th>\n",
              "      <th>hotel_city</th>\n",
              "      <th>hotel_name</th>\n",
              "      <th>hotel_score</th>\n",
              "      <th>hotel_desc</th>\n",
              "      <th>hotel_url</th>\n",
              "      <th>lat</th>\n",
              "      <th>lon</th>\n",
              "      <th>city</th>\n",
              "      <th>lat_city</th>\n",
              "      <th>lon_city</th>\n",
              "      <th>...</th>\n",
              "      <th>d0_temp</th>\n",
              "      <th>d1_temp</th>\n",
              "      <th>d2_temp</th>\n",
              "      <th>d3_temp</th>\n",
              "      <th>d4_temp</th>\n",
              "      <th>d5_temp</th>\n",
              "      <th>d6_temp</th>\n",
              "      <th>d7_temp</th>\n",
              "      <th>avg_temp_day</th>\n",
              "      <th>weather_score</th>\n",
              "    </tr>\n",
              "  </thead>\n",
              "  <tbody>\n",
              "    <tr>\n",
              "      <th>0</th>\n",
              "      <td>Montauban</td>\n",
              "      <td>L'Escale des Libellules by BNB Conciergerie Mtban</td>\n",
              "      <td>10.0</td>\n",
              "      <td>Apartment</td>\n",
              "      <td>https://www.booking.com/hotel/fr/escale-des-li...</td>\n",
              "      <td>44.016925</td>\n",
              "      <td>1.355524</td>\n",
              "      <td>Montauban</td>\n",
              "      <td>44.017584</td>\n",
              "      <td>1.354999</td>\n",
              "      <td>...</td>\n",
              "      <td>24.53</td>\n",
              "      <td>26.28</td>\n",
              "      <td>22.58</td>\n",
              "      <td>24.54</td>\n",
              "      <td>25.83</td>\n",
              "      <td>27.04</td>\n",
              "      <td>26.61</td>\n",
              "      <td>24.49</td>\n",
              "      <td>25.24</td>\n",
              "      <td>8.13</td>\n",
              "    </tr>\n",
              "  </tbody>\n",
              "</table>\n",
              "<p>1 rows × 38 columns</p>\n",
              "</div>"
            ],
            "text/plain": [
              "  hotel_city                                         hotel_name  hotel_score  \\\n",
              "0  Montauban  L'Escale des Libellules by BNB Conciergerie Mtban         10.0   \n",
              "\n",
              "  hotel_desc                                          hotel_url        lat  \\\n",
              "0  Apartment  https://www.booking.com/hotel/fr/escale-des-li...  44.016925   \n",
              "\n",
              "        lon       city   lat_city  lon_city  ...  d0_temp  d1_temp  d2_temp  \\\n",
              "0  1.355524  Montauban  44.017584  1.354999  ...    24.53    26.28    22.58   \n",
              "\n",
              "   d3_temp  d4_temp  d5_temp  d6_temp  d7_temp  avg_temp_day  weather_score  \n",
              "0    24.54    25.83    27.04    26.61    24.49         25.24           8.13  \n",
              "\n",
              "[1 rows x 38 columns]"
            ]
          },
          "execution_count": 35,
          "metadata": {},
          "output_type": "execute_result"
        }
      ],
      "source": [
        "df_aws_booking.head(1)"
      ]
    },
    {
      "cell_type": "code",
      "execution_count": 42,
      "metadata": {},
      "outputs": [
        {
          "name": "stdout",
          "output_type": "stream",
          "text": [
            "2022-10-23 21:16:18,352 INFO sqlalchemy.engine.Engine select relname from pg_class c join pg_namespace n on n.oid=c.relnamespace where pg_catalog.pg_table_is_visible(c.oid) and relname=%(name)s\n",
            "2022-10-23 21:16:18,353 INFO sqlalchemy.engine.Engine [cached since 648.7s ago] {'name': '\\nSELECT hotel_city,hotel_name,hotel_score,weather_score,avg_temp_day as avgtemp \\n\\nFROM top20hotelstop5cities\\nORDER BY weather_score DESC, hotel_score DESC, avgtemp DESC\\n'}\n",
            "2022-10-23 21:16:18,835 INFO sqlalchemy.engine.Engine \n",
            "SELECT hotel_city,hotel_name,hotel_score,weather_score,avg_temp_day as avgtemp \n",
            "\n",
            "FROM top20hotelstop5cities\n",
            "ORDER BY weather_score DESC, hotel_score DESC, avgtemp DESC\n",
            "\n",
            "2022-10-23 21:16:18,837 INFO sqlalchemy.engine.Engine [raw sql] {}\n"
          ]
        }
      ],
      "source": [
        "conn = engine.connect()\n",
        "\n",
        "# sql query below\n",
        "query_db = \"\"\"\n",
        "SELECT hotel_city,hotel_name,hotel_score,weather_score,avg_temp_day as avgtemp \n",
        "\n",
        "FROM top20hotelstop5cities\n",
        "ORDER BY weather_score DESC, hotel_score DESC, avgtemp DESC\n",
        "\"\"\"\n",
        "\n",
        "# outputing sql to dataframe\n",
        "df_rds = pd.read_sql(query_db, engine)\n"
      ]
    },
    {
      "cell_type": "code",
      "execution_count": 43,
      "metadata": {},
      "outputs": [
        {
          "data": {
            "text/html": [
              "<div>\n",
              "<style scoped>\n",
              "    .dataframe tbody tr th:only-of-type {\n",
              "        vertical-align: middle;\n",
              "    }\n",
              "\n",
              "    .dataframe tbody tr th {\n",
              "        vertical-align: top;\n",
              "    }\n",
              "\n",
              "    .dataframe thead th {\n",
              "        text-align: right;\n",
              "    }\n",
              "</style>\n",
              "<table border=\"1\" class=\"dataframe\">\n",
              "  <thead>\n",
              "    <tr style=\"text-align: right;\">\n",
              "      <th></th>\n",
              "      <th>hotel_city</th>\n",
              "      <th>hotel_name</th>\n",
              "      <th>hotel_score</th>\n",
              "      <th>weather_score</th>\n",
              "      <th>avgtemp</th>\n",
              "    </tr>\n",
              "  </thead>\n",
              "  <tbody>\n",
              "    <tr>\n",
              "      <th>0</th>\n",
              "      <td>Montauban</td>\n",
              "      <td>L'Escale des Libellules by BNB Conciergerie Mtban</td>\n",
              "      <td>10.0</td>\n",
              "      <td>8.13</td>\n",
              "      <td>25.24</td>\n",
              "    </tr>\n",
              "    <tr>\n",
              "      <th>1</th>\n",
              "      <td>Montauban</td>\n",
              "      <td>Manoir de la Gravette Maison d'Hôtes</td>\n",
              "      <td>9.6</td>\n",
              "      <td>8.13</td>\n",
              "      <td>25.24</td>\n",
              "    </tr>\n",
              "    <tr>\n",
              "      <th>2</th>\n",
              "      <td>Montauban</td>\n",
              "      <td>room five MONTAUBAN</td>\n",
              "      <td>9.5</td>\n",
              "      <td>8.13</td>\n",
              "      <td>25.24</td>\n",
              "    </tr>\n",
              "    <tr>\n",
              "      <th>3</th>\n",
              "      <td>Montauban</td>\n",
              "      <td>Castel Bois Marie</td>\n",
              "      <td>9.3</td>\n",
              "      <td>8.13</td>\n",
              "      <td>25.24</td>\n",
              "    </tr>\n",
              "    <tr>\n",
              "      <th>4</th>\n",
              "      <td>Montauban</td>\n",
              "      <td>Les Chalets du Manoir</td>\n",
              "      <td>9.1</td>\n",
              "      <td>8.13</td>\n",
              "      <td>25.24</td>\n",
              "    </tr>\n",
              "    <tr>\n",
              "      <th>...</th>\n",
              "      <td>...</td>\n",
              "      <td>...</td>\n",
              "      <td>...</td>\n",
              "      <td>...</td>\n",
              "      <td>...</td>\n",
              "    </tr>\n",
              "    <tr>\n",
              "      <th>95</th>\n",
              "      <td>Toulouse</td>\n",
              "      <td>Privilège Appart Hôtel Saint Exupéry</td>\n",
              "      <td>8.1</td>\n",
              "      <td>7.56</td>\n",
              "      <td>24.63</td>\n",
              "    </tr>\n",
              "    <tr>\n",
              "      <th>96</th>\n",
              "      <td>Toulouse</td>\n",
              "      <td>Best Western Hotel Innes Toulouse Centre</td>\n",
              "      <td>8.1</td>\n",
              "      <td>7.56</td>\n",
              "      <td>24.63</td>\n",
              "    </tr>\n",
              "    <tr>\n",
              "      <th>97</th>\n",
              "      <td>Toulouse</td>\n",
              "      <td>Crowne Plaza Toulouse, an IHG Hotel</td>\n",
              "      <td>8.0</td>\n",
              "      <td>7.56</td>\n",
              "      <td>24.63</td>\n",
              "    </tr>\n",
              "    <tr>\n",
              "      <th>98</th>\n",
              "      <td>Toulouse</td>\n",
              "      <td>Mercure Toulouse Centre Saint-Georges</td>\n",
              "      <td>8.0</td>\n",
              "      <td>7.56</td>\n",
              "      <td>24.63</td>\n",
              "    </tr>\n",
              "    <tr>\n",
              "      <th>99</th>\n",
              "      <td>Toulouse</td>\n",
              "      <td>Hotel Palladia</td>\n",
              "      <td>8.0</td>\n",
              "      <td>7.56</td>\n",
              "      <td>24.63</td>\n",
              "    </tr>\n",
              "  </tbody>\n",
              "</table>\n",
              "<p>100 rows × 5 columns</p>\n",
              "</div>"
            ],
            "text/plain": [
              "   hotel_city                                         hotel_name  hotel_score  \\\n",
              "0   Montauban  L'Escale des Libellules by BNB Conciergerie Mtban         10.0   \n",
              "1   Montauban               Manoir de la Gravette Maison d'Hôtes          9.6   \n",
              "2   Montauban                                room five MONTAUBAN          9.5   \n",
              "3   Montauban                                  Castel Bois Marie          9.3   \n",
              "4   Montauban                              Les Chalets du Manoir          9.1   \n",
              "..        ...                                                ...          ...   \n",
              "95   Toulouse               Privilège Appart Hôtel Saint Exupéry          8.1   \n",
              "96   Toulouse           Best Western Hotel Innes Toulouse Centre          8.1   \n",
              "97   Toulouse                Crowne Plaza Toulouse, an IHG Hotel          8.0   \n",
              "98   Toulouse              Mercure Toulouse Centre Saint-Georges          8.0   \n",
              "99   Toulouse                                     Hotel Palladia          8.0   \n",
              "\n",
              "    weather_score  avgtemp  \n",
              "0            8.13    25.24  \n",
              "1            8.13    25.24  \n",
              "2            8.13    25.24  \n",
              "3            8.13    25.24  \n",
              "4            8.13    25.24  \n",
              "..            ...      ...  \n",
              "95           7.56    24.63  \n",
              "96           7.56    24.63  \n",
              "97           7.56    24.63  \n",
              "98           7.56    24.63  \n",
              "99           7.56    24.63  \n",
              "\n",
              "[100 rows x 5 columns]"
            ]
          },
          "execution_count": 43,
          "metadata": {},
          "output_type": "execute_result"
        }
      ],
      "source": [
        "df_rds"
      ]
    },
    {
      "cell_type": "code",
      "execution_count": 44,
      "metadata": {},
      "outputs": [
        {
          "data": {
            "text/plain": [
              "(100, 5)"
            ]
          },
          "execution_count": 44,
          "metadata": {},
          "output_type": "execute_result"
        }
      ],
      "source": [
        "df_rds.shape"
      ]
    },
    {
      "cell_type": "markdown",
      "metadata": {},
      "source": [
        "**OK. It is working**"
      ]
    },
    {
      "cell_type": "markdown",
      "metadata": {},
      "source": [
        "# Summary"
      ]
    },
    {
      "cell_type": "markdown",
      "metadata": {},
      "source": [
        "Weather and hotel information are scraped from web for top visited French citties.\n",
        "Then, touristic French cities are ranked by their weather condition in the coming week. This notebook, at the end, provides \n",
        "* two maps plotted with TOP 5 destinations and TOP 20 hotels in the area\n",
        "* creation of a .csv file in an S3 bucket with scrapped information about weather and hotels for top visited French citties\n",
        "* creation of a SQL Database to get the cleaned data from S3, and "
      ]
    },
    {
      "cell_type": "markdown",
      "metadata": {},
      "source": [
        "--- End of Notebook ---\n",
        "# END"
      ]
    }
  ],
  "metadata": {
    "colab": {
      "collapsed_sections": [],
      "provenance": []
    },
    "kernelspec": {
      "display_name": "Python 3.9.12 64-bit ('Anaconda3')",
      "language": "python",
      "name": "python3"
    },
    "language_info": {
      "codemirror_mode": {
        "name": "ipython",
        "version": 3
      },
      "file_extension": ".py",
      "mimetype": "text/x-python",
      "name": "python",
      "nbconvert_exporter": "python",
      "pygments_lexer": "ipython3",
      "version": "3.9.12"
    },
    "vscode": {
      "interpreter": {
        "hash": "ad2bdc8ecc057115af97d19610ffacc2b4e99fae6737bb82f5d7fb13d2f2c186"
      }
    }
  },
  "nbformat": 4,
  "nbformat_minor": 0
}
